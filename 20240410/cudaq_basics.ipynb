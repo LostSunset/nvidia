{
  "cells": [
    {
      "cell_type": "markdown",
      "metadata": {
        "id": "view-in-github",
        "colab_type": "text"
      },
      "source": [
        "<a href=\"https://colab.research.google.com/github/Squirtle007/CUDA_Quantum/blob/main/cudaq_basics.ipynb\" target=\"_parent\"><img src=\"https://colab.research.google.com/assets/colab-badge.svg\" alt=\"Open In Colab\"/></a>"
      ]
    },
    {
      "cell_type": "markdown",
      "metadata": {
        "id": "U6OLNtvGyu4K"
      },
      "source": [
        "**Set up CUDA Quantum Environment**"
      ]
    },
    {
      "cell_type": "code",
      "execution_count": 1,
      "metadata": {
        "colab": {
          "base_uri": "https://localhost:8080/"
        },
        "id": "8Eax8rP1c7l7",
        "outputId": "f587b4f9-1a38-4ecd-b863-8507da4c29d7"
      },
      "outputs": [
        {
          "output_type": "stream",
          "name": "stdout",
          "text": [
            "--2024-03-26 10:29:42--  https://developer.download.nvidia.com/compute/cuda/repos/ubuntu2204/x86_64/cuda-keyring_1.0-1_all.deb\n",
            "Resolving developer.download.nvidia.com (developer.download.nvidia.com)... 152.195.19.142\n",
            "Connecting to developer.download.nvidia.com (developer.download.nvidia.com)|152.195.19.142|:443... connected.\n",
            "HTTP request sent, awaiting response... 200 OK\n",
            "Length: 4332 (4.2K) [application/x-deb]\n",
            "Saving to: ‘cuda-keyring_1.0-1_all.deb’\n",
            "\n",
            "\r          cuda-keyr   0%[                    ]       0  --.-KB/s               \rcuda-keyring_1.0-1_ 100%[===================>]   4.23K  --.-KB/s    in 0s      \n",
            "\n",
            "2024-03-26 10:29:42 (181 MB/s) - ‘cuda-keyring_1.0-1_all.deb’ saved [4332/4332]\n",
            "\n",
            "(Reading database ... 121753 files and directories currently installed.)\n",
            "Preparing to unpack cuda-keyring_1.0-1_all.deb ...\n",
            "Unpacking cuda-keyring (1.0-1) over (1.0-1) ...\n",
            "Setting up cuda-keyring (1.0-1) ...\n",
            "\n",
            "A deprecated public CUDA GPG key appear to be installed.\n",
            "To remove the key, run this command:\n",
            "sudo apt-key del 7fa2af80\n",
            "\n",
            "Hit:1 http://archive.ubuntu.com/ubuntu jammy InRelease\n",
            "Get:2 https://cloud.r-project.org/bin/linux/ubuntu jammy-cran40/ InRelease [3,626 B]\n",
            "Get:3 http://archive.ubuntu.com/ubuntu jammy-updates InRelease [119 kB]\n",
            "Get:4 https://developer.download.nvidia.com/compute/cuda/repos/ubuntu2204/x86_64  InRelease [1,581 B]\n",
            "Get:5 http://security.ubuntu.com/ubuntu jammy-security InRelease [110 kB]\n",
            "Hit:6 http://archive.ubuntu.com/ubuntu jammy-backports InRelease\n",
            "Hit:7 https://ppa.launchpadcontent.net/c2d4u.team/c2d4u4.0+/ubuntu jammy InRelease\n",
            "Get:8 https://developer.download.nvidia.com/compute/cuda/repos/ubuntu2204/x86_64  Packages [773 kB]\n",
            "Hit:9 https://ppa.launchpadcontent.net/deadsnakes/ppa/ubuntu jammy InRelease\n",
            "Hit:10 https://ppa.launchpadcontent.net/graphics-drivers/ppa/ubuntu jammy InRelease\n",
            "Get:11 http://archive.ubuntu.com/ubuntu jammy-updates/universe amd64 Packages [1,356 kB]\n",
            "Hit:12 https://ppa.launchpadcontent.net/ubuntugis/ppa/ubuntu jammy InRelease\n",
            "Get:13 http://archive.ubuntu.com/ubuntu jammy-updates/main amd64 Packages [1,902 kB]\n",
            "Get:14 http://archive.ubuntu.com/ubuntu jammy-updates/restricted amd64 Packages [2,085 kB]\n",
            "Get:15 http://security.ubuntu.com/ubuntu jammy-security/restricted amd64 Packages [2,048 kB]\n",
            "Get:16 http://security.ubuntu.com/ubuntu jammy-security/main amd64 Packages [1,624 kB]\n",
            "Fetched 10.0 MB in 2s (4,621 kB/s)\n",
            "Reading package lists... Done\n",
            "Reading package lists... Done\n",
            "Building dependency tree... Done\n",
            "Reading state information... Done\n",
            "The following additional packages will be installed:\n",
            "  cuda-toolkit-11-8-config-common cuda-toolkit-11-config-common\n",
            "The following NEW packages will be installed:\n",
            "  cuda-cudart-11-8 cuda-toolkit-11-8-config-common cuda-toolkit-11-config-common libcublas-11-8\n",
            "  libcusolver-11-8\n",
            "0 upgraded, 5 newly installed, 0 to remove and 39 not upgraded.\n",
            "Need to get 300 MB of archives.\n",
            "After this operation, 1,159 MB of additional disk space will be used.\n",
            "Get:1 https://developer.download.nvidia.com/compute/cuda/repos/ubuntu2204/x86_64  cuda-toolkit-11-config-common 11.8.89-1 [16.4 kB]\n",
            "Get:2 https://developer.download.nvidia.com/compute/cuda/repos/ubuntu2204/x86_64  cuda-toolkit-11-8-config-common 11.8.89-1 [16.3 kB]\n",
            "Get:3 https://developer.download.nvidia.com/compute/cuda/repos/ubuntu2204/x86_64  cuda-cudart-11-8 11.8.89-1 [165 kB]\n",
            "Get:4 https://developer.download.nvidia.com/compute/cuda/repos/ubuntu2204/x86_64  libcublas-11-8 11.11.3.6-1 [248 MB]\n",
            "Get:5 https://developer.download.nvidia.com/compute/cuda/repos/ubuntu2204/x86_64  libcusolver-11-8 11.4.1.48-1 [52.3 MB]\n",
            "Fetched 300 MB in 5s (65.8 MB/s)\n",
            "Selecting previously unselected package cuda-toolkit-11-config-common.\n",
            "(Reading database ... 121753 files and directories currently installed.)\n",
            "Preparing to unpack .../cuda-toolkit-11-config-common_11.8.89-1_all.deb ...\n",
            "Unpacking cuda-toolkit-11-config-common (11.8.89-1) ...\n",
            "Selecting previously unselected package cuda-toolkit-11-8-config-common.\n",
            "Preparing to unpack .../cuda-toolkit-11-8-config-common_11.8.89-1_all.deb ...\n",
            "Unpacking cuda-toolkit-11-8-config-common (11.8.89-1) ...\n",
            "Selecting previously unselected package cuda-cudart-11-8.\n",
            "Preparing to unpack .../cuda-cudart-11-8_11.8.89-1_amd64.deb ...\n",
            "Unpacking cuda-cudart-11-8 (11.8.89-1) ...\n",
            "Selecting previously unselected package libcublas-11-8.\n",
            "Preparing to unpack .../libcublas-11-8_11.11.3.6-1_amd64.deb ...\n",
            "Unpacking libcublas-11-8 (11.11.3.6-1) ...\n",
            "Selecting previously unselected package libcusolver-11-8.\n",
            "Preparing to unpack .../libcusolver-11-8_11.4.1.48-1_amd64.deb ...\n",
            "Unpacking libcusolver-11-8 (11.4.1.48-1) ...\n",
            "Setting up cuda-toolkit-11-config-common (11.8.89-1) ...\n",
            "Setting up cuda-toolkit-11-8-config-common (11.8.89-1) ...\n",
            "Setting alternatives\n",
            "update-alternatives: using /usr/local/cuda-11.8 to provide /usr/local/cuda-11 (cuda-11) in auto mode\n",
            "Setting up libcusolver-11-8 (11.4.1.48-1) ...\n",
            "Setting up cuda-cudart-11-8 (11.8.89-1) ...\n",
            "Setting up libcublas-11-8 (11.11.3.6-1) ...\n",
            "Processing triggers for libc-bin (2.35-0ubuntu3.4) ...\n",
            "/sbin/ldconfig.real: /usr/local/lib/libtbbbind_2_5.so.3 is not a symbolic link\n",
            "\n",
            "/sbin/ldconfig.real: /usr/local/lib/libtbbbind.so.3 is not a symbolic link\n",
            "\n",
            "/sbin/ldconfig.real: /usr/local/lib/libtbbmalloc.so.2 is not a symbolic link\n",
            "\n",
            "/sbin/ldconfig.real: /usr/local/lib/libtbbmalloc_proxy.so.2 is not a symbolic link\n",
            "\n",
            "/sbin/ldconfig.real: /usr/local/lib/libtbb.so.12 is not a symbolic link\n",
            "\n",
            "/sbin/ldconfig.real: /usr/local/lib/libtbbbind_2_0.so.3 is not a symbolic link\n",
            "\n",
            "Collecting cuda-quantum==0.6.0\n",
            "  Downloading cuda_quantum-0.6.0-cp310-cp310-manylinux_2_28_x86_64.whl (59.0 MB)\n",
            "\u001b[2K     \u001b[90m━━━━━━━━━━━━━━━━━━━━━━━━━━━━━━━━━━━━━━━━\u001b[0m \u001b[32m59.0/59.0 MB\u001b[0m \u001b[31m11.5 MB/s\u001b[0m eta \u001b[36m0:00:00\u001b[0m\n",
            "\u001b[?25hCollecting cuquantum-cu11~=23.10 (from cuda-quantum==0.6.0)\n",
            "  Downloading cuquantum_cu11-23.10.0-py3-none-manylinux2014_x86_64.whl (7.0 kB)\n",
            "Collecting custatevec-cu11==1.5.0 (from cuquantum-cu11~=23.10->cuda-quantum==0.6.0)\n",
            "  Downloading custatevec_cu11-1.5.0-py3-none-manylinux2014_x86_64.whl (38.9 MB)\n",
            "\u001b[2K     \u001b[90m━━━━━━━━━━━━━━━━━━━━━━━━━━━━━━━━━━━━━━━━\u001b[0m \u001b[32m38.9/38.9 MB\u001b[0m \u001b[31m28.8 MB/s\u001b[0m eta \u001b[36m0:00:00\u001b[0m\n",
            "\u001b[?25hCollecting cutensornet-cu11==2.3.0 (from cuquantum-cu11~=23.10->cuda-quantum==0.6.0)\n",
            "  Downloading cutensornet_cu11-2.3.0-py3-none-manylinux2014_x86_64.whl (2.2 MB)\n",
            "\u001b[2K     \u001b[90m━━━━━━━━━━━━━━━━━━━━━━━━━━━━━━━━━━━━━━━━\u001b[0m \u001b[32m2.2/2.2 MB\u001b[0m \u001b[31m57.2 MB/s\u001b[0m eta \u001b[36m0:00:00\u001b[0m\n",
            "\u001b[?25hCollecting cutensor-cu11<2,>=1.6.1 (from cutensornet-cu11==2.3.0->cuquantum-cu11~=23.10->cuda-quantum==0.6.0)\n",
            "  Downloading cutensor_cu11-1.7.0-py3-none-manylinux2014_x86_64.whl (142.1 MB)\n",
            "\u001b[2K     \u001b[90m━━━━━━━━━━━━━━━━━━━━━━━━━━━━━━━━━━━━━━━━\u001b[0m \u001b[32m142.1/142.1 MB\u001b[0m \u001b[31m3.9 MB/s\u001b[0m eta \u001b[36m0:00:00\u001b[0m\n",
            "\u001b[?25hInstalling collected packages: cutensor-cu11, custatevec-cu11, cutensornet-cu11, cuquantum-cu11, cuda-quantum\n",
            "Successfully installed cuda-quantum-0.6.0 cuquantum-cu11-23.10.0 custatevec-cu11-1.5.0 cutensor-cu11-1.7.0 cutensornet-cu11-2.3.0\n"
          ]
        }
      ],
      "source": [
        "#The following commands are used to set up the environment in Colab\n",
        "!wget https://developer.download.nvidia.com/compute/cuda/repos/ubuntu2204/x86_64/cuda-keyring_1.0-1_all.deb\n",
        "!dpkg -i cuda-keyring_1.0-1_all.deb\n",
        "!apt-get update\n",
        "!apt-get -y install libcublas-11-8 libcusolver-11-8 cuda-cudart-11-8\n",
        "\n",
        "%pip install cuda-quantum==0.6.0"
      ]
    },
    {
      "cell_type": "markdown",
      "metadata": {
        "id": "BIv13j1fc59b"
      },
      "source": [
        "# CUDA Quantum 101\n",
        "    Important Links\n",
        "    \n",
        "    * Perlmutter Specific Instructions\n",
        "        https://github.com/poojarao8/nersc-quantum-day/blob/master/PerlmutterInstructions.md\n",
        "    * Installation (Docker recommended)\n",
        "        https://nvidia.github.io/cuda-quantum/latest/install.html\n",
        "    * Documentation\n",
        "        https://nvidia.github.io/cuda-quantum/latest/index.html\n",
        "    * CUDA Quantum Repo\n",
        "        https://github.com/NVIDIA/cuda-quantum\n",
        "    * Scaling Applications\n",
        "        https://nvidia.github.io/cuda-quantum/latest/examples/python/tutorials/multi_gpu_workflows.html\n",
        "\n",
        "\n",
        "    Outline\n",
        "\n",
        "    1. What is CUDA Quantum?\n",
        "    2. CUDA Quantum Kernels\n",
        "    3. CUDA Quantum Primitives\n",
        "        3.1 cudaq.sample()\n",
        "        3.2 cudaq.spin_op()\n",
        "        3.3 cudaq.observe()\n",
        "    4. Parameterized circuits\n",
        "    5. Noise-modeling\n",
        "    6. Scaling"
      ]
    },
    {
      "cell_type": "markdown",
      "metadata": {
        "id": "cAm8Eytnc59i"
      },
      "source": [
        "### 1. CUDA Quantum"
      ]
    },
    {
      "cell_type": "markdown",
      "metadata": {
        "id": "XKnyNf-Tc59j"
      },
      "source": [
        "    - NVIDIA’s open-source platform for hybrid quantum-classical computing\n",
        "\n",
        "    - Built for high-performance, scalability, and ease-of-use\n",
        "\n",
        "    - As all valuable quantum applications of the future will be hybrid, CUDA Quantum enables users to develop performant hybrid applications that can easily scale to supercomputing scale systems like NERSC’s Perlmutter.\n",
        "\n",
        "<div style=\"display:flex;justify-content:center;\">\n",
        "    <img src=\"figs/doe_excerpts.png\" alt=\"Image Title\" width=\"600\">\n",
        "</div>\n"
      ]
    },
    {
      "cell_type": "markdown",
      "metadata": {
        "id": "1RKmYKkbc59k"
      },
      "source": [
        "#### 2. CUDA Quantum Kernel"
      ]
    },
    {
      "cell_type": "code",
      "execution_count": 2,
      "metadata": {
        "id": "vL87FFjUc59l"
      },
      "outputs": [],
      "source": [
        "# Import the CUDA Quantum module\n",
        "import cudaq"
      ]
    },
    {
      "cell_type": "code",
      "execution_count": 3,
      "metadata": {
        "id": "EgQyWamVc59n"
      },
      "outputs": [],
      "source": [
        "# We begin by defining the `Kernel` that we will construct our\n",
        "# program with.\n",
        "kernel = cudaq.make_kernel()"
      ]
    },
    {
      "cell_type": "code",
      "execution_count": 4,
      "metadata": {
        "id": "HqaySXrRc59o"
      },
      "outputs": [],
      "source": [
        "# Next, we can allocate qubits to the kernel via `qalloc(qubit_count)`.\n",
        "# An empty call to `qalloc` will return a single qubit.\n",
        "qubit = kernel.qalloc()"
      ]
    },
    {
      "cell_type": "code",
      "execution_count": 5,
      "metadata": {
        "id": "DifX1YPhc59p"
      },
      "outputs": [],
      "source": [
        "# Now we can begin adding instructions to apply to this qubit!\n",
        "# Here we'll just add every non-parameterized\n",
        "# single qubit gates that are supported by CUDA Quantum.\n",
        "kernel.h(qubit)\n",
        "kernel.x(qubit)\n",
        "kernel.y(qubit)\n",
        "kernel.z(qubit)\n",
        "kernel.t(qubit)\n",
        "kernel.s(qubit)"
      ]
    },
    {
      "cell_type": "code",
      "execution_count": 6,
      "metadata": {
        "colab": {
          "base_uri": "https://localhost:8080/"
        },
        "id": "GWjjwWztc59s",
        "outputId": "49b5a1e8-7772-4465-c6ad-ec21bb551ebf"
      },
      "outputs": [
        {
          "output_type": "execute_result",
          "data": {
            "text/plain": [
              "<cudaq._pycudaq.QuakeValue at 0x790bfac5e430>"
            ]
          },
          "metadata": {},
          "execution_count": 6
        }
      ],
      "source": [
        "# Next, we add a measurement to the kernel so that we can sample\n",
        "# the measurement results on our simulator!\n",
        "kernel.mz(qubit)"
      ]
    },
    {
      "cell_type": "code",
      "execution_count": 7,
      "metadata": {
        "colab": {
          "base_uri": "https://localhost:8080/"
        },
        "id": "jx9vqrrFc59t",
        "outputId": "e474bac6-7059-4f29-9b57-4c969179a3bf"
      },
      "outputs": [
        {
          "output_type": "execute_result",
          "data": {
            "text/plain": [
              "['__call__',\n",
              " '__class__',\n",
              " '__delattr__',\n",
              " '__dir__',\n",
              " '__doc__',\n",
              " '__eq__',\n",
              " '__format__',\n",
              " '__ge__',\n",
              " '__getattribute__',\n",
              " '__gt__',\n",
              " '__hash__',\n",
              " '__init__',\n",
              " '__init_subclass__',\n",
              " '__le__',\n",
              " '__lt__',\n",
              " '__module__',\n",
              " '__ne__',\n",
              " '__new__',\n",
              " '__reduce__',\n",
              " '__reduce_ex__',\n",
              " '__repr__',\n",
              " '__setattr__',\n",
              " '__sizeof__',\n",
              " '__str__',\n",
              " '__subclasshook__',\n",
              " 'adjoint',\n",
              " 'apply_call',\n",
              " 'argument_count',\n",
              " 'arguments',\n",
              " 'c_if',\n",
              " 'ch',\n",
              " 'control',\n",
              " 'cr1',\n",
              " 'crx',\n",
              " 'cry',\n",
              " 'crz',\n",
              " 'cs',\n",
              " 'cswap',\n",
              " 'ct',\n",
              " 'cx',\n",
              " 'cy',\n",
              " 'cz',\n",
              " 'exp_pauli',\n",
              " 'fermionic_swap',\n",
              " 'for_loop',\n",
              " 'givens_rotation',\n",
              " 'h',\n",
              " 'mx',\n",
              " 'my',\n",
              " 'mz',\n",
              " 'name',\n",
              " 'qalloc',\n",
              " 'r1',\n",
              " 'reset',\n",
              " 'rx',\n",
              " 'ry',\n",
              " 'rz',\n",
              " 's',\n",
              " 'sdg',\n",
              " 'swap',\n",
              " 't',\n",
              " 'tdg',\n",
              " 'to_quake',\n",
              " 'x',\n",
              " 'y',\n",
              " 'z']"
            ]
          },
          "metadata": {},
          "execution_count": 7
        }
      ],
      "source": [
        "# Other methods and attributes available to the kernel object\n",
        "dir(kernel)\n",
        "#help(kernel.tdg)"
      ]
    },
    {
      "cell_type": "markdown",
      "metadata": {
        "id": "x8CU7yhKc59u"
      },
      "source": [
        "###     3. Algorithmic primitives"
      ]
    },
    {
      "cell_type": "markdown",
      "metadata": {
        "id": "VysREXyKc59v"
      },
      "source": [
        "  Algorithmic primitives are common programming patterns that have\n",
        "  been implemented in the CUDA Quantum library.\n",
        "\n",
        "    3.1 cudaq.sample()\n",
        "    3.2 cudaq.observe()\n",
        "    3.3 cudaq.spin_op()"
      ]
    },
    {
      "cell_type": "markdown",
      "metadata": {
        "id": "DQ9EwV51c59v"
      },
      "source": [
        "#### 3.1. cudaq.sample()"
      ]
    },
    {
      "cell_type": "markdown",
      "metadata": {
        "id": "wB976haoc59v"
      },
      "source": [
        "      The sample() function performs multiple measurements of the\n",
        "      circuit(1000 shots by default) and returns a dictionary of the\n",
        "      measurement outcomes along with their respective counts."
      ]
    },
    {
      "cell_type": "code",
      "execution_count": 8,
      "metadata": {
        "colab": {
          "base_uri": "https://localhost:8080/"
        },
        "id": "h6DGOOh5c59w",
        "outputId": "d71be765-8e66-46db-b896-121a2a781f63"
      },
      "outputs": [
        {
          "output_type": "stream",
          "name": "stdout",
          "text": [
            "{ 0:507 1:493 }\n",
            "\n"
          ]
        }
      ],
      "source": [
        "# Finally, we can execute this kernel on the state vector simulator\n",
        "# by calling `cudaq.sample`. This will execute the provided kernel\n",
        "# `shots_count` number of times and return the sampled distribution\n",
        "# as a `cudaq.SampleResult` dictionary.\n",
        "sample_result = cudaq.sample(kernel)\n",
        "\n",
        "# Now let's take a look at the `SampleResult` we've gotten back!\n",
        "print(sample_result)  # or result.dump()"
      ]
    },
    {
      "cell_type": "markdown",
      "metadata": {
        "id": "GLJcYl00c59w"
      },
      "source": [
        "    Putting it all together!"
      ]
    },
    {
      "cell_type": "code",
      "execution_count": 9,
      "metadata": {
        "colab": {
          "base_uri": "https://localhost:8080/"
        },
        "id": "Vhspf0m6c59x",
        "outputId": "4c38fa81-ad7a-42c0-a993-8b7f310dcc57"
      },
      "outputs": [
        {
          "output_type": "stream",
          "name": "stdout",
          "text": [
            "{ 00:514 10:475 01:512 11:499 }\n",
            "\n"
          ]
        }
      ],
      "source": [
        "import cudaq\n",
        "\n",
        "kernel = cudaq.make_kernel()\n",
        "qubit = kernel.qalloc(2)\n",
        "\n",
        "kernel.h(qubit)\n",
        "kernel.x(qubit)\n",
        "kernel.y(qubit)\n",
        "kernel.z(qubit)\n",
        "kernel.t(qubit)\n",
        "kernel.s(qubit)\n",
        "\n",
        "kernel.mz(qubit)\n",
        "\n",
        "# 1000 is the default\n",
        "sample_result = cudaq.sample(kernel, shots_count=2000)\n",
        "\n",
        "print(sample_result)  # or sample_result.dump()"
      ]
    },
    {
      "cell_type": "code",
      "execution_count": 10,
      "metadata": {
        "colab": {
          "base_uri": "https://localhost:8080/"
        },
        "id": "CVNgAXQ3c59x",
        "outputId": "a64933a8-fd87-4479-b151-43b8c4e29b23"
      },
      "outputs": [
        {
          "output_type": "stream",
          "name": "stdout",
          "text": [
            "most probable = 00\n",
            "expectation_value = 0.013000000000000012\n",
            "count = 0\n",
            "probability = 0.0\n"
          ]
        },
        {
          "output_type": "stream",
          "name": "stderr",
          "text": [
            "<ipython-input-10-2900d74af260>:4: DeprecationWarning: expectation_z() is deprecated, use expectation() with the same argument structure.\n",
            "  print(f\"expectation_value = {sample_result.expectation_z()}\")\n"
          ]
        }
      ],
      "source": [
        "# Extracting data from sample\n",
        "\n",
        "print(f\"most probable = {sample_result.most_probable()}\")\n",
        "print(f\"expectation_value = {sample_result.expectation_z()}\")\n",
        "print(f\"count = {sample_result.count('1')}\")\n",
        "print(f\"probability = {sample_result.probability('1')}\")\n"
      ]
    },
    {
      "cell_type": "code",
      "execution_count": 11,
      "metadata": {
        "colab": {
          "base_uri": "https://localhost:8080/"
        },
        "id": "4diOC16Xc59y",
        "outputId": "24c54b80-6532-41bb-a016-cd993bdd8f9f"
      },
      "outputs": [
        {
          "output_type": "stream",
          "name": "stdout",
          "text": [
            "{ }\n",
            "\n"
          ]
        }
      ],
      "source": [
        "# clear results, result should now be empty\n",
        "sample_result.clear()\n",
        "print(sample_result)"
      ]
    },
    {
      "cell_type": "markdown",
      "metadata": {
        "id": "JuDgo_jVc59y"
      },
      "source": [
        "####  3.2. cudaq.spin_op()"
      ]
    },
    {
      "cell_type": "markdown",
      "metadata": {
        "id": "vcuN9quSc59y"
      },
      "source": [
        "     \n",
        "    The spin_op represents a sum of Pauli tensor products.\n",
        "    \n",
        "    - Typical algebraic operations can be used to compose larger,\n",
        "    more complex Pauli tensor products and their sums.\n",
        "\n",
        "Let's take the Hamitonian H such that, H  = $Z_0 \\otimes I_1 + I_0 \\otimes X_1 + Y_0 \\otimes I_1 + Y_0 \\otimes Y_1$."
      ]
    },
    {
      "cell_type": "code",
      "execution_count": 12,
      "metadata": {
        "colab": {
          "base_uri": "https://localhost:8080/"
        },
        "id": "A0MXIhHNc59z",
        "outputId": "0378bd4b-6374-4849-d072-fb8400aed32d"
      },
      "outputs": [
        {
          "output_type": "stream",
          "name": "stdout",
          "text": [
            "[-2+0j] IZZ\n",
            "[1+0j] ZII\n",
            "[1+0j] YII\n",
            "[1+0j] IXI\n",
            "[1+0j] YYI\n",
            "[-2+0j] ZZI\n",
            "\n",
            "(-3,0)  (0,0)  (1,0)  (0,0)  (0,1)  (0,0) (-1,0)  (0,0)\n",
            " (0,0)  (1,0)  (0,0)  (1,0)  (0,0)  (0,1)  (0,0) (-1,0)\n",
            " (1,0)  (0,0)  (5,0)  (0,0)  (1,0)  (0,0)  (0,1)  (0,0)\n",
            " (0,0)  (1,0)  (0,0)  (1,0)  (0,0)  (1,0)  (0,0)  (0,1)\n",
            "(0,-1)  (0,0)  (1,0)  (0,0) (-1,0)  (0,0)  (1,0)  (0,0)\n",
            " (0,0) (0,-1)  (0,0)  (1,0)  (0,0)  (3,0)  (0,0)  (1,0)\n",
            "(-1,0)  (0,0) (0,-1)  (0,0)  (1,0)  (0,0) (-1,0)  (0,0)\n",
            " (0,0) (-1,0)  (0,0) (0,-1)  (0,0)  (1,0)  (0,0) (-5,0)\n",
            "\n",
            "([(-3+0j), (1+0j), 1j, (-1+0j), (1+0j), (1+0j), 1j, (-1+0j), (1+0j), (5+0j), (1+0j), 1j, (1+0j), (1+0j), (1+0j), 1j, -1j, (1+0j), (-1+0j), (1+0j), -1j, (1+0j), (3+0j), (1+0j), (-1+0j), -1j, (1+0j), (-1+0j), (-1+0j), -1j, (1+0j), (-5+0j)], [0, 2, 4, 6, 1, 3, 5, 7, 0, 2, 4, 6, 1, 3, 5, 7, 0, 2, 4, 6, 1, 3, 5, 7, 0, 2, 4, 6, 1, 3, 5, 7], [0, 0, 0, 0, 1, 1, 1, 1, 2, 2, 2, 2, 3, 3, 3, 3, 4, 4, 4, 4, 5, 5, 5, 5, 6, 6, 6, 6, 7, 7, 7, 7])\n"
          ]
        }
      ],
      "source": [
        "# Importing the spin_op\n",
        "from cudaq import spin\n",
        "\n",
        "# the obseravle\n",
        "hamiltonian = spin.z(0) + spin.x(1) + spin.y(0) + spin.y(0)*spin.y(1)\n",
        "\n",
        "# add some more terms\n",
        "for i in range(2):\n",
        "  hamiltonian += -2.0*spin.z(i)*spin.z(i+1)\n",
        "\n",
        "print(hamiltonian)\n",
        "print(hamiltonian.to_matrix())\n",
        "print(hamiltonian.to_sparse_matrix())\n"
      ]
    },
    {
      "cell_type": "code",
      "execution_count": 13,
      "metadata": {
        "colab": {
          "base_uri": "https://localhost:8080/"
        },
        "id": "AEmdaDqec59z",
        "outputId": "54f5771f-7ad2-4b60-9fd5-c2a53b1883ae"
      },
      "outputs": [
        {
          "output_type": "execute_result",
          "data": {
            "text/plain": [
              "['__add__',\n",
              " '__class__',\n",
              " '__delattr__',\n",
              " '__dir__',\n",
              " '__doc__',\n",
              " '__eq__',\n",
              " '__format__',\n",
              " '__ge__',\n",
              " '__getattribute__',\n",
              " '__gt__',\n",
              " '__hash__',\n",
              " '__iadd__',\n",
              " '__imul__',\n",
              " '__init__',\n",
              " '__init_subclass__',\n",
              " '__isub__',\n",
              " '__iter__',\n",
              " '__le__',\n",
              " '__lt__',\n",
              " '__module__',\n",
              " '__mul__',\n",
              " '__ne__',\n",
              " '__new__',\n",
              " '__radd__',\n",
              " '__reduce__',\n",
              " '__reduce_ex__',\n",
              " '__repr__',\n",
              " '__rmul__',\n",
              " '__rsub__',\n",
              " '__setattr__',\n",
              " '__sizeof__',\n",
              " '__str__',\n",
              " '__sub__',\n",
              " '__subclasshook__',\n",
              " 'distribute_terms',\n",
              " 'dump',\n",
              " 'for_each_pauli',\n",
              " 'for_each_term',\n",
              " 'from_word',\n",
              " 'get_coefficient',\n",
              " 'get_qubit_count',\n",
              " 'get_raw_data',\n",
              " 'get_term_count',\n",
              " 'is_identity',\n",
              " 'random',\n",
              " 'serialize',\n",
              " 'to_matrix',\n",
              " 'to_sparse_matrix',\n",
              " 'to_string']"
            ]
          },
          "metadata": {},
          "execution_count": 13
        }
      ],
      "source": [
        "dir(hamiltonian)"
      ]
    },
    {
      "cell_type": "markdown",
      "metadata": {
        "id": "SaqXEToEc59z"
      },
      "source": [
        "#### 3.3. cudaq.observe()\n",
        "\n",
        "Compute the expected value of the observable, i.e., $\\bra{\\psi}H\\ket{\\psi}$, where $H$ is a cudaq spin_op."
      ]
    },
    {
      "cell_type": "code",
      "execution_count": 14,
      "metadata": {
        "id": "h0aRw-6hc59z"
      },
      "outputs": [],
      "source": [
        "# Importing the spin_op\n",
        "from cudaq import spin\n",
        "\n",
        "# the obseravle\n",
        "hamiltonian = spin.z(0) + spin.x(1) + spin.y(0) + spin.y(0)*spin.y(1)\n",
        "\n",
        "# First we need to construct a cuda quantum kernel\n",
        "kernel = cudaq.make_kernel()\n",
        "qreg = kernel.qalloc(2)\n",
        "kernel.x(qreg[0])\n",
        "\n",
        "# The cudaq.observe() takes the quantum circuit and the observable as input params\n",
        "observe_result = cudaq.observe(kernel, hamiltonian, shots_count=1000)"
      ]
    },
    {
      "cell_type": "code",
      "execution_count": 15,
      "metadata": {
        "colab": {
          "base_uri": "https://localhost:8080/"
        },
        "id": "Lz6_LAiic59z",
        "outputId": "689e2e53-493c-498a-8c6e-e3054dd19ed2"
      },
      "outputs": [
        {
          "output_type": "stream",
          "name": "stdout",
          "text": [
            "<cudaq._pycudaq.ObserveResult object at 0x790be02da8f0>\n"
          ]
        },
        {
          "output_type": "stream",
          "name": "stderr",
          "text": [
            "<ipython-input-15-cf24ef9f14eb>:2: DeprecationWarning: expectation_z() is deprecated, use expectation() with the same argument structure.\n",
            "  observe_result.expectation_z()\n"
          ]
        },
        {
          "output_type": "execute_result",
          "data": {
            "text/plain": [
              "-1.002"
            ]
          },
          "metadata": {},
          "execution_count": 15
        }
      ],
      "source": [
        "print(observe_result)\n",
        "observe_result.expectation_z()"
      ]
    },
    {
      "cell_type": "code",
      "execution_count": 16,
      "metadata": {
        "id": "p_WWmSmcc590"
      },
      "outputs": [],
      "source": [
        "# For a complete list of attributes\n",
        "# dir (observe_result)"
      ]
    },
    {
      "cell_type": "markdown",
      "metadata": {
        "id": "xMPgAcBYc590"
      },
      "source": [
        "### 4. Parameterized circuits"
      ]
    },
    {
      "cell_type": "code",
      "execution_count": 17,
      "metadata": {
        "colab": {
          "base_uri": "https://localhost:8080/"
        },
        "id": "x0M5M7w4c590",
        "outputId": "6be37d29-5471-4ae2-94ff-18a6290d568c"
      },
      "outputs": [
        {
          "output_type": "stream",
          "name": "stderr",
          "text": [
            "<ipython-input-17-f2875ed41ecd>:19: DeprecationWarning: expectation_z() is deprecated, use expectation() with the same argument structure.\n",
            "  observe_result.expectation_z()\n"
          ]
        },
        {
          "output_type": "execute_result",
          "data": {
            "text/plain": [
              "-1.7487943680728968"
            ]
          },
          "metadata": {},
          "execution_count": 17
        }
      ],
      "source": [
        "import cudaq\n",
        "from cudaq import spin\n",
        "\n",
        "# the obserable\n",
        "hamiltonian = 5.907 - 2.1433 * spin.x(0) * spin.x(1) \\\n",
        "            - 2.1433 * spin.y(0) * spin.y(1) + 0.21829 * spin.z(0) \\\n",
        "            - 6.125 * spin.z(1)\n",
        "\n",
        "# parameterized cudaq kernel, the parameter is of type float\n",
        "kernel, theta = cudaq.make_kernel(float)\n",
        "q = kernel.qalloc(2)\n",
        "kernel.x(q[0])\n",
        "kernel.ry(theta, q[1])\n",
        "kernel.cx(q[1], q[0])\n",
        "\n",
        "# observe() takes the kernel, the observable and the kernel paramter(s)\n",
        "# as args\n",
        "observe_result = cudaq.observe(kernel, hamiltonian, .59)\n",
        "observe_result.expectation_z()"
      ]
    },
    {
      "cell_type": "markdown",
      "metadata": {
        "id": "YfNmRlSrc591"
      },
      "source": [
        "### 4. Noise modeling"
      ]
    },
    {
      "cell_type": "markdown",
      "metadata": {
        "id": "bdzjiozhc591"
      },
      "source": [
        "    Noise can be represnted mathematically using the Kraus operators.\n",
        "    \n",
        "\\begin{equation*}\n",
        "\\rho \\mapsto {\\cal{N}}(\\rho) = \\sum_{j} K_j \\rho K_j^{\\dag}\n",
        "\\end{equation*}\n",
        "\n",
        "    with the condition that\n",
        "    \n",
        "\\begin{equation*}\n",
        "\\sum_{j} K_j K_j^{\\dag} = \\mathbb{I}.\n",
        "\\end{equation*}"
      ]
    },
    {
      "cell_type": "markdown",
      "metadata": {
        "id": "KSte0B5ic591"
      },
      "source": [
        "    A single-qubit bit-flip error can be expressed as:\n",
        "\n",
        "\\begin{equation*}\n",
        "    \\rho = (1-p) \\rho + p X\\rho X\n",
        "\\end{equation*}\n",
        "    with p in [0,1].\n"
      ]
    },
    {
      "cell_type": "code",
      "execution_count": 18,
      "metadata": {
        "colab": {
          "base_uri": "https://localhost:8080/"
        },
        "id": "XnVMHfimc591",
        "outputId": "a675f7dd-91a5-467c-aef3-065d634b3bc7"
      },
      "outputs": [
        {
          "output_type": "stream",
          "name": "stdout",
          "text": [
            "{ 0:1000 }\n",
            "\n",
            "{ 1:1000 }\n",
            "\n"
          ]
        }
      ],
      "source": [
        "import cudaq\n",
        "\n",
        "# Set the target to our density matrix simulator.\n",
        "cudaq.set_target('density-matrix-cpu')\n",
        "\n",
        "# We will begin by defining an empty noise model that we will add\n",
        "# these decoherence channels to.\n",
        "noise = cudaq.NoiseModel()\n",
        "\n",
        "# Bit flip channel with `1.0` probability of the qubit flipping 180 degrees.\n",
        "bit_flip = cudaq.BitFlipChannel(1.0)\n",
        "# We will apply this channel to any X gate on the qubit, giving each X-gate\n",
        "# a probability of `1.0` of undergoing an extra X-gate.\n",
        "noise.add_channel('x', [0], bit_flip)\n",
        "\n",
        "# construct a circuit\n",
        "kernel = cudaq.make_kernel()\n",
        "qubit = kernel.qalloc()\n",
        "\n",
        "# Apply an X-gate to the qubit.\n",
        "# It will remain in the |1> state with a probability of `1 - p = 0.0`.\n",
        "kernel.x(qubit)\n",
        "kernel.mz(qubit)\n",
        "\n",
        "# noisy simulation\n",
        "noisy_result = cudaq.sample(kernel, noise_model=noise)\n",
        "print(noisy_result)\n",
        "\n",
        "# noiseless simulation\n",
        "noiseless_result = cudaq.sample(kernel)\n",
        "print(noiseless_result)"
      ]
    },
    {
      "cell_type": "markdown",
      "metadata": {
        "id": "kNICfrhgc591"
      },
      "source": [
        " Custom Noise Model\n",
        "\n",
        "     Here, we demonstrate a custom noise model with the same Kraus operators as in the ampltiude damping channel, but following the same template we can build other noise models such as the Pauli noise model."
      ]
    },
    {
      "cell_type": "code",
      "execution_count": 19,
      "metadata": {
        "colab": {
          "base_uri": "https://localhost:8080/"
        },
        "id": "G0G-GWs2c592",
        "outputId": "dd8b145f-6391-4b32-ef84-1deff2f0b4f8"
      },
      "outputs": [
        {
          "output_type": "stream",
          "name": "stdout",
          "text": [
            "{ 0:1000 }\n",
            "\n",
            "{ 0:501 1:499 }\n",
            "\n"
          ]
        }
      ],
      "source": [
        "import cudaq\n",
        "import numpy as np\n",
        "\n",
        "# Set the target to our density matrix simulator.\n",
        "cudaq.set_target('density-matrix-cpu')\n",
        "\n",
        "# We will begin by defining an empty noise model that we will add\n",
        "# our Kraus Channel to.\n",
        "noise = cudaq.NoiseModel()\n",
        "\n",
        "# We will define our Kraus Operators within functions, as to\n",
        "# allow for easy control over the noise probability.\n",
        "def kraus_operators(probability):\n",
        "    \"\"\"See Nielsen, Chuang Chapter 8.3.5 for definition source.\"\"\"\n",
        "    kraus_0 = np.array([[1, 0], [0, np.sqrt(1 - probability)]],\n",
        "                       dtype=np.complex128)\n",
        "    kraus_1 = np.array([[0, 0], [np.sqrt(probability), 0]], dtype=np.complex128)\n",
        "    return [kraus_0, kraus_1]\n",
        "\n",
        "\n",
        "# Manually defined amplitude damping channel with `1.0` probability\n",
        "# of the qubit decaying to the ground state.\n",
        "amplitude_damping = cudaq.KrausChannel(kraus_operators(1.0))\n",
        "# We will apply this channel to any Hadamard gate on the qubit.\n",
        "noise.add_channel('h', [0], amplitude_damping)\n",
        "\n",
        "# construct a simple kernel\n",
        "kernel = cudaq.make_kernel()\n",
        "qubit = kernel.qalloc()\n",
        "kernel.h(qubit)\n",
        "kernel.mz(qubit)\n",
        "\n",
        "# noisy\n",
        "noisy_result = cudaq.sample(kernel, noise_model=noise)\n",
        "print(noisy_result)\n",
        "\n",
        "# noiseless\n",
        "noiseless_result = cudaq.sample(kernel)\n",
        "print(noiseless_result)"
      ]
    },
    {
      "cell_type": "markdown",
      "metadata": {
        "id": "LN8gO9Vhc592"
      },
      "source": [
        "#### Single-gpu speedup"
      ]
    },
    {
      "cell_type": "code",
      "execution_count": 20,
      "metadata": {
        "colab": {
          "base_uri": "https://localhost:8080/"
        },
        "id": "8X5vJo2Gc592",
        "outputId": "340c9451-77c5-4a5b-b6c9-b0fb7b7b451d"
      },
      "outputs": [
        {
          "output_type": "stream",
          "name": "stdout",
          "text": [
            "Preparing GHZ state for 30 qubits.\n",
            "{ 000000000000000000000000000000:491 111111111111111111111111111111:509 }\n",
            "\n"
          ]
        }
      ],
      "source": [
        "import cudaq\n",
        "\n",
        "#cudaq.set_target(\"default\") # cpu\n",
        "cudaq.set_target(\"nvidia\") # single gpu acceleration\n",
        "\n",
        "def ghz_state(N):\n",
        "    kernel = cudaq.make_kernel()\n",
        "    q = kernel.qalloc(N)\n",
        "    kernel.h(q[0])\n",
        "    for i in range(N - 1):\n",
        "      kernel.cx(q[i], q[i + 1])\n",
        "\n",
        "    kernel.mz(q)\n",
        "    return kernel\n",
        "\n",
        "n = 30\n",
        "print(\"Preparing GHZ state for\", n, \"qubits.\")\n",
        "kernel = ghz_state(n)\n",
        "counts = cudaq.sample(kernel)\n",
        "print(counts)"
      ]
    },
    {
      "cell_type": "markdown",
      "metadata": {
        "id": "xI1hAEunc592"
      },
      "source": [
        "### Scaling applications in CUDA Quantum\n",
        "Main reference: https://nvidia.github.io/cuda-quantum/latest/examples/python/tutorials/multi_gpu_workflows.html"
      ]
    },
    {
      "cell_type": "markdown",
      "metadata": {
        "id": "ZmmG2dXac592"
      },
      "source": [
        "Targets\n",
        "\n",
        "    - A combination of quantum circuit simulators and hardware.\n",
        "    - Allows you to switch between QPUs, CPUs and GPUs.\n",
        "    - The default target provides a state vector simulator based on the CPU-only, OpenMP threaded Q++ library.\n",
        "\n",
        "\n",
        "Available Targets¶\n",
        "\n",
        "        default: The default qpp based CPU backend which is multithreaded to maximise the usage of available cores on your system.\n",
        "\n",
        "        nvidia: GPU based backend which accelerates quantum circuit simulation on NVIDIA GPUs powered by cuQuantum.\n",
        "\n",
        "        nvidia-mqpu: Enables users to program workflows utilizing multiple quantum processors enabled today by GPU emulation.\n",
        "\n",
        "        nvidia-mgpu: Allows for scaling circuit simulation beyond what is feasible with any QPU today.\n",
        "\n",
        "        density-matrix-cpu: Noisy simulations via density matrix calculations. CPU only for now with GPU support coming soon."
      ]
    },
    {
      "cell_type": "code",
      "execution_count": 21,
      "metadata": {
        "colab": {
          "base_uri": "https://localhost:8080/"
        },
        "id": "zQRaRmOrc5-B",
        "outputId": "af5b51b2-0141-4af6-9d53-ee808d3b5d10"
      },
      "outputs": [
        {
          "output_type": "stream",
          "name": "stdout",
          "text": [
            "Target iqm\n",
            "\tsimulator=qpp\n",
            "\tplatform=default\n",
            "\tdescription=\n",
            "\n",
            "Target nvidia-mqpu-fp64\n",
            "\tsimulator=custatevec_fp64\n",
            "\tplatform=mqpu\n",
            "\tdescription=The NVIDIA MQPU FP64 Target provides a simulated QPU for every available CUDA GPU on the underlying system. Each QPU is simulated via cuStateVec FP64.\n",
            "\n",
            "Target tensornet-mps\n",
            "\tsimulator=tensornet_mps\n",
            "\tplatform=default\n",
            "\tdescription=\n",
            "\n",
            "Target orca\n",
            "\tsimulator=qpp\n",
            "\tplatform=default\n",
            "\tdescription=\n",
            "\n",
            "Target nvidia-fp64\n",
            "\tsimulator=custatevec_fp64\n",
            "\tplatform=default\n",
            "\tdescription=The NVIDIA FP64 Target provides a simulated QPU via single-GPU cuStateVec integration on FP64 types.\n",
            "\n",
            "Target nvidia\n",
            "\tsimulator=custatevec_fp32\n",
            "\tplatform=default\n",
            "\tdescription=The NVIDIA Target provides a simulated QPU via single-GPU cuStateVec integration on FP32 types.\n",
            "\n",
            "Target nvidia-mgpu\n",
            "\tsimulator=nvidia_mgpu\n",
            "\tplatform=default\n",
            "\tdescription=\n",
            "\n",
            "Target oqc\n",
            "\tsimulator=qpp\n",
            "\tplatform=default\n",
            "\tdescription=\n",
            "\n",
            "Target ionq\n",
            "\tsimulator=qpp\n",
            "\tplatform=default\n",
            "\tdescription=\n",
            "\n",
            "Target tensornet\n",
            "\tsimulator=tensornet\n",
            "\tplatform=default\n",
            "\tdescription=\n",
            "\n",
            "Target remote-mqpu\n",
            "\tsimulator=qpp\n",
            "\tplatform=mqpu\n",
            "\tdescription=\n",
            "\n",
            "Target nvidia-mqpu\n",
            "\tsimulator=custatevec_fp32\n",
            "\tplatform=mqpu\n",
            "\tdescription=The NVIDIA MQPU Target provides a simulated QPU for every available CUDA GPU on the underlying system. Each QPU is simulated via cuStateVec FP32. This target enables asynchronous parallel execution of quantum kernel tasks.\n",
            "\n",
            "Target qpp-cpu\n",
            "\tsimulator=qpp\n",
            "\tplatform=default\n",
            "\tdescription=QPP-based CPU-only backend target\n",
            "\n",
            "Target density-matrix-cpu\n",
            "\tsimulator=dm\n",
            "\tplatform=default\n",
            "\tdescription=The Density Matrix CPU Target provides a simulated QPU via OpenMP-enabled, CPU-only density matrix emulation.\n",
            "\n",
            "Target quantinuum\n",
            "\tsimulator=qpp\n",
            "\tplatform=default\n",
            "\tdescription=\n",
            "\n",
            "Target photonics\n",
            "\tsimulator=qpp\n",
            "\tplatform=default\n",
            "\tdescription=\n",
            "\n"
          ]
        }
      ],
      "source": [
        "# Print all the availble targets for your system\n",
        "import cudaq\n",
        "\n",
        "targets = cudaq.get_targets()\n",
        "\n",
        "for target in targets:\n",
        "    print(target)"
      ]
    },
    {
      "cell_type": "markdown",
      "metadata": {
        "id": "fAQgQKQYc5-B"
      },
      "source": [
        "    Some  ways to scale your application:\n",
        "  \n",
        "    1. Increasing the number of qubits (weak scaling)\n",
        "    \n",
        "            - mgpu backend\n",
        "    \n",
        "    2. Distributing the circuit execution (strong scaling)\n",
        "            2.1 asynchronous sampling\n",
        "            2.2 Hamiltonian batching\n",
        "            2.3 Parameter batching\n",
        "\n",
        "            - mqpu backend\n",
        "            - Each gpu acts as a virtual qpu\n",
        "\n",
        "         As a rule of thumb, we can parallelize over any of the input parameters to `cudaq.sample()` or `cudaq.observe()` - kernel, hamiltonian, kernel parameters, etc."
      ]
    },
    {
      "cell_type": "markdown",
      "metadata": {
        "id": "mrs-t7Gsc5-B"
      },
      "source": [
        "### Multiple NVIDIA GPUs for the mgpu backend"
      ]
    },
    {
      "cell_type": "markdown",
      "metadata": {
        "id": "xrHP93qLc5-C"
      },
      "source": [
        "    - The increase in qubit count leads to an exponential increase in the size of the statevector.\n",
        "    \n",
        "    - The nvidia-mgpu target allows for scaling the qubit count by pooling memory from GPUs across multiple nodes.\n",
        "\n",
        "    - Execution on the nvidia-mgpu backed is enabled via `srun` on Perlmutter.\n",
        "\n",
        "    - To test this, run the GHZ state prep example https://github.com/poojarao8/nersc-quantum-day/blob/master/ghz.py using the instructions from here https://github.com/poojarao8/nersc-quantum-day/blob/master/PerlmutterInstructions.md.  "
      ]
    },
    {
      "cell_type": "markdown",
      "metadata": {
        "id": "icFYL0rmc5-C"
      },
      "source": [
        "                            \n",
        "                            GHZ state prep on Perlmutter\n",
        "<div style=\"display:flex;justify-content:center;\">\n",
        "    <img src=\"figs/qubit_scaling.png\" alt=\"Image Title\" width=\"200\">\n",
        "</div>\n"
      ]
    },
    {
      "cell_type": "markdown",
      "metadata": {
        "id": "cXeoofZmc5-C"
      },
      "source": [
        "### Asynchronous sampling via mqpu backend"
      ]
    },
    {
      "cell_type": "code",
      "execution_count": 22,
      "metadata": {
        "colab": {
          "base_uri": "https://localhost:8080/"
        },
        "id": "YGXH88Xcc5-C",
        "outputId": "ee25b67f-f995-42ce-99df-56abd5a0a750"
      },
      "outputs": [
        {
          "output_type": "stream",
          "name": "stdout",
          "text": [
            "Number of QPUs: 1\n",
            "{ 00:507 11:493 }\n",
            "\n"
          ]
        }
      ],
      "source": [
        "import cudaq\n",
        "\n",
        "cudaq.set_target(\"nvidia-mqpu\")\n",
        "target = cudaq.get_target()\n",
        "num_qpus = target.num_qpus()\n",
        "print(\"Number of QPUs:\", num_qpus)\n",
        "\n",
        "kernel = cudaq.make_kernel()\n",
        "qubits = kernel.qalloc(2)\n",
        "kernel.h(qubits[0])\n",
        "kernel.cx(qubits[0], qubits[1])\n",
        "kernel.mz(qubits)\n",
        "\n",
        "futures = []\n",
        "for i in range(num_qpus):\n",
        "  futures.append(cudaq.sample_async(kernel, qpu_id=i))\n",
        "\n",
        "\n",
        "for count in futures:\n",
        "    print(count.get())\n"
      ]
    },
    {
      "cell_type": "markdown",
      "metadata": {
        "id": "6w_3Lnwac5-D"
      },
      "source": [
        "      Asynchronous expectation value computation"
      ]
    },
    {
      "cell_type": "code",
      "execution_count": 23,
      "metadata": {
        "colab": {
          "base_uri": "https://localhost:8080/"
        },
        "id": "qOb_knS3c5-D",
        "outputId": "51760988-1761-4278-d074-35467e3e5fc0"
      },
      "outputs": [
        {
          "output_type": "stream",
          "name": "stderr",
          "text": [
            "<ipython-input-23-6f9b6827cf26>:17: DeprecationWarning: expectation_z() is deprecated, use expectation() with the same argument structure.\n",
            "  got_expectation = observe_result.expectation_z()\n"
          ]
        }
      ],
      "source": [
        "import cudaq\n",
        "from cudaq import spin\n",
        "\n",
        "kernel = cudaq.make_kernel()\n",
        "qubit = kernel.qalloc()\n",
        "kernel.x(qubit)\n",
        "\n",
        "# Measuring in the Z-basis.\n",
        "hamiltonian = spin.z(0)\n",
        "\n",
        "# Call `cudaq.observe()` at the specified number of shots.\n",
        "future = cudaq.observe_async(kernel=kernel,\n",
        "                            spin_operator=hamiltonian,\n",
        "                            qpu_id=0,\n",
        "                            shots_count=2000)\n",
        "observe_result = future.get()\n",
        "got_expectation = observe_result.expectation_z()"
      ]
    },
    {
      "cell_type": "markdown",
      "metadata": {
        "id": "KGM1yaAAc5-D"
      },
      "source": [
        "                    Hamiltonian term distribution over multiple QPUs\n",
        "<div style=\"display:flex;justify-content:center;\">\n",
        "    <img src=\"figs/hamiltonian_batch.png\" alt=\"Image Title\" width=\"500\">\n",
        "</div>\n"
      ]
    },
    {
      "cell_type": "code",
      "execution_count": 24,
      "metadata": {
        "id": "2-4wGb8Lc5-D"
      },
      "outputs": [],
      "source": [
        "import cudaq\n",
        "\n",
        "cudaq.set_target(\"nvidia-mqpu\")\n",
        "\n",
        "qubit_count = 15\n",
        "term_count = 100\n",
        "\n",
        "kernel = cudaq.make_kernel()\n",
        "qubits = kernel.qalloc(qubit_count)\n",
        "kernel.h(qubits[0])\n",
        "\n",
        "for i in range(1, qubit_count):\n",
        "    kernel.cx(qubits[0], qubits[i])\n",
        "\n",
        "# We create a random hamiltonian with several terms\n",
        "hamiltonian = cudaq.SpinOperator.random(qubit_count, term_count)\n",
        "\n",
        "# The observe calls allows us to calculate the expectation value of the Hamiltonian,\n",
        "# batches the terms, and distributes them over the multiple QPU's/GPUs.\n",
        "# expectation = cudaq.observe(kernel, hamiltonian)  # Single node, single GPU.\n",
        "\n",
        "expectation = cudaq.observe(kernel, hamiltonian,\n",
        "                        execution=cudaq.parallel.thread)  # Single node, multi-GPU.\n",
        "\n",
        "# expectation = cudaq.observe(kernel, hamiltonian,\n",
        "#                       execution= cudaq.parallel.mpi) # Multi-node, multi-GPU."
      ]
    },
    {
      "cell_type": "markdown",
      "metadata": {
        "id": "_7zUSUV6c5-E"
      },
      "source": [
        "    More on workflows enabled by the use of multiple gpus:\n",
        "https://nvidia.github.io/cuda-quantum/latest/examples/python/tutorials/multi_gpu_workflows.html"
      ]
    },
    {
      "cell_type": "markdown",
      "metadata": {
        "id": "954TPZdqc5-E"
      },
      "source": [
        "### Other useful things"
      ]
    },
    {
      "cell_type": "markdown",
      "metadata": {
        "id": "LsllQTP9c5-E"
      },
      "source": [
        "    Adjoing of a kernel"
      ]
    },
    {
      "cell_type": "code",
      "execution_count": 25,
      "metadata": {
        "id": "8D3WzVlIc5-E"
      },
      "outputs": [],
      "source": [
        " import cudaq\n",
        "\n",
        "# Create a kernel and do some operations\n",
        "other_kernel = cudaq.make_kernel()\n",
        "other_qubit = other_kernel.qalloc()\n",
        "other_kernel.x(other_qubit)\n",
        "\n",
        "# Create a kernel, which'll be the adjoint of other_kernel\n",
        "kernel = cudaq.make_kernel()\n",
        "kernel.adjoint(other_kernel)"
      ]
    },
    {
      "cell_type": "markdown",
      "metadata": {
        "id": "hk_N9OMyc5-E"
      },
      "source": [
        "    Conditional Measurement"
      ]
    },
    {
      "cell_type": "code",
      "execution_count": 26,
      "metadata": {
        "colab": {
          "base_uri": "https://localhost:8080/"
        },
        "id": "uZAjE5NZc5-F",
        "outputId": "2a4a23d0-8402-4532-833a-cdf9d213e4ea"
      },
      "outputs": [
        {
          "output_type": "stream",
          "name": "stdout",
          "text": [
            "{ \n",
            "  __global__ : { 0:30 }\n",
            "   auto_register_0 : { 1:30 }\n",
            "}\n",
            "\n"
          ]
        }
      ],
      "source": [
        " # The conditional measurement functionality of `cudaq.kernel`\n",
        "import cudaq\n",
        "\n",
        "kernel = cudaq.make_kernel()\n",
        "qubit = kernel.qalloc()\n",
        "\n",
        "def then_function():\n",
        "    kernel.x(qubit)\n",
        "\n",
        "kernel.x(qubit)\n",
        "\n",
        "# Measure the qubit.\n",
        "measurement_ = kernel.mz(qubit)\n",
        "# Apply `then_function` to the `kernel` if\n",
        "# the qubit was measured in the 1-state.\n",
        "kernel.c_if(measurement_, then_function)\n",
        "\n",
        "# Measure the qubit again.\n",
        "result = cudaq.sample(kernel, shots_count=30)\n",
        "print(result)\n"
      ]
    },
    {
      "cell_type": "markdown",
      "metadata": {
        "id": "4kkfaMlbc5-F"
      },
      "source": [
        "### Variational Algorithms\n",
        "\n",
        "    Variational algorithms in CUDA Quantum typically leverage the `cudaq.observe(...)` function in tandem with the `cudaq.optimizer`.\n",
        "\n",
        "    One can choose an optimization strategy provided as specific sub-types of the `cudaq.optimizers`."
      ]
    },
    {
      "cell_type": "code",
      "execution_count": 27,
      "metadata": {
        "colab": {
          "base_uri": "https://localhost:8080/"
        },
        "id": "NDqW7R1Lc5-F",
        "outputId": "eef91f17-7ce6-4dde-a693-7e0d3be1a98d"
      },
      "outputs": [
        {
          "output_type": "stream",
          "name": "stdout",
          "text": [
            "-1.2955199629068375 [-0.3]\n",
            "-0.7044796496629715 [0.3]\n",
            "-1.1567716915160418 [-0.1574212903296091]\n",
            "-1.423347532749176 [-0.4371372362606588]\n",
            "-0.8780100231524557 [0.1222946556014406]\n",
            "-1.2571947555989025 [-0.26011805461908494]\n",
            "-1.2571947555989025 [-0.26011805461908494]\n"
          ]
        },
        {
          "output_type": "stream",
          "name": "stderr",
          "text": [
            "<ipython-input-27-722f34681c16>:25: DeprecationWarning: expectation_z() is deprecated, use expectation() with the same argument structure.\n",
            "  print (observeResult.expectation_z(), x)\n",
            "<ipython-input-27-722f34681c16>:26: DeprecationWarning: expectation_z() is deprecated, use expectation() with the same argument structure.\n",
            "  return observeResult.expectation_z()\n"
          ]
        }
      ],
      "source": [
        "# Import the necessary modules\n",
        "import cudaq\n",
        "from cudaq import spin\n",
        "\n",
        "# Parameterized circuit with theta as the parameter\n",
        "kernel, theta = cudaq.make_kernel(list)\n",
        "qreg = kernel.qalloc(2)\n",
        "kernel.x(qreg[0])\n",
        "kernel.ry(theta[0], qreg[1])\n",
        "\n",
        "\n",
        "# Observable\n",
        "hamiltonian = spin.z(0) + spin.x(1) + spin.y(0)\n",
        "\n",
        "# Initialize the gradient-free optimizer COBYLA\n",
        "optimizer = cudaq.optimizers.SPSA()\n",
        "\n",
        "# Specify the number of iterations (optional)\n",
        "optimizer.max_iterations = 2\n",
        "\n",
        "def cost_function(x):\n",
        "    # cudaq.observe() produces the expected value of a specified observable wrt a given parameterized ansatz at given params.\n",
        "    # This value is the cost function wrt which we are optimizing.\n",
        "    observeResult = cudaq.observe(kernel, hamiltonian, x)\n",
        "    print (observeResult.expectation_z(), x)\n",
        "    return observeResult.expectation_z()\n",
        "\n",
        "# Carry out the optimization\n",
        "opt_value, opt_theta = optimizer.optimize(dimensions=1, function=cost_function)"
      ]
    },
    {
      "cell_type": "code",
      "execution_count": 28,
      "metadata": {
        "colab": {
          "base_uri": "https://localhost:8080/"
        },
        "id": "VxOGeMQnc5-G",
        "outputId": "461a0a20-e485-4cbb-b19f-c2c77429c9af"
      },
      "outputs": [
        {
          "output_type": "execute_result",
          "data": {
            "text/plain": [
              "['Adam',\n",
              " 'COBYLA',\n",
              " 'GradientDescent',\n",
              " 'LBFGS',\n",
              " 'NelderMead',\n",
              " 'SGD',\n",
              " 'SPSA',\n",
              " '__doc__',\n",
              " '__loader__',\n",
              " '__name__',\n",
              " '__package__',\n",
              " '__spec__',\n",
              " 'optimizer']"
            ]
          },
          "metadata": {},
          "execution_count": 28
        }
      ],
      "source": [
        "# Other optimizers and attributes available to the `cudaq.optimizers`\n",
        "dir(cudaq.optimizers)"
      ]
    },
    {
      "cell_type": "markdown",
      "metadata": {
        "id": "Ltq8VBvcc5-G"
      },
      "source": [
        "    VQE wrapper"
      ]
    },
    {
      "cell_type": "code",
      "execution_count": 29,
      "metadata": {
        "colab": {
          "base_uri": "https://localhost:8080/"
        },
        "id": "H5DVpdUVc5-G",
        "outputId": "bf857455-ca3a-4866-d875-143cd6408baa"
      },
      "outputs": [
        {
          "output_type": "stream",
          "name": "stdout",
          "text": [
            "\n",
            "minimized <H> = -1.9999997019767757\n",
            "optimal theta = -1.5707963267948963\n"
          ]
        }
      ],
      "source": [
        " # Import the necessary modules\n",
        "import cudaq\n",
        "from cudaq import spin\n",
        "\n",
        "# Parameterized circuit with theta as the parameter\n",
        "kernel, theta = cudaq.make_kernel(list)\n",
        "qreg = kernel.qalloc(2)\n",
        "kernel.x(qreg[0])\n",
        "kernel.ry(theta[0], qreg[1])\n",
        "\n",
        "# Hamiltonian operator\n",
        "hamiltonian = spin.z(0) + spin.x(1) + spin.y(0)\n",
        "\n",
        "# Initialize the gradient-free optimizer COBYLA\n",
        "optimizer = cudaq.optimizers.COBYLA()\n",
        "\n",
        "# Specify the number of iterations (optional)\n",
        "optimizer.max_iterations = 5\n",
        "\n",
        "# Carry out the optimization\n",
        "opt_value, opt_theta = cudaq.vqe(kernel=kernel,\n",
        "                        spin_operator=hamiltonian,\n",
        "                        optimizer=optimizer,\n",
        "                        parameter_count=1)\n",
        "\n",
        "print(f\"\\nminimized <H> = {round(opt_value,16)}\")\n",
        "print(f\"optimal theta = {round(opt_theta[0],16)}\")"
      ]
    }
  ],
  "metadata": {
    "accelerator": "GPU",
    "colab": {
      "gpuType": "T4",
      "provenance": [],
      "include_colab_link": true
    },
    "kernelspec": {
      "display_name": "Python 3 (ipykernel)",
      "language": "python",
      "name": "python3"
    },
    "language_info": {
      "codemirror_mode": {
        "name": "ipython",
        "version": 3
      },
      "file_extension": ".py",
      "mimetype": "text/x-python",
      "name": "python",
      "nbconvert_exporter": "python",
      "pygments_lexer": "ipython3",
      "version": "3.10.12"
    }
  },
  "nbformat": 4,
  "nbformat_minor": 0
}