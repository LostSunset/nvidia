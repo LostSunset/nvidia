{
  "cells": [
    {
      "cell_type": "markdown",
      "metadata": {
        "id": "view-in-github",
        "colab_type": "text"
      },
      "source": [
        "<a href=\"https://colab.research.google.com/github/Squirtle007/CUDA_Quantum/blob/main/colab/cudaq_tutorial_04.ipynb\" target=\"_parent\"><img src=\"https://colab.research.google.com/assets/colab-badge.svg\" alt=\"Open In Colab\"/></a>"
      ]
    },
    {
      "cell_type": "markdown",
      "source": [
        "**Set up CUDA Quantum Environment**"
      ],
      "metadata": {
        "id": "2NWBuR-AaT37"
      }
    },
    {
      "cell_type": "code",
      "source": [
        "#The following commands are used to set up the environment in Colab\n",
        "!wget https://developer.download.nvidia.com/compute/cuda/repos/ubuntu2204/x86_64/cuda-keyring_1.0-1_all.deb\n",
        "!dpkg -i cuda-keyring_1.0-1_all.deb\n",
        "!apt-get update\n",
        "!apt-get -y install libcublas-11-8 libcusolver-11-8 cuda-cudart-11-8\n",
        "\n",
        "%pip install cuda-quantum==0.6.0"
      ],
      "metadata": {
        "colab": {
          "base_uri": "https://localhost:8080/"
        },
        "id": "-0GysfsiaTqt",
        "outputId": "6b7c3369-792c-44f1-e517-d3cef9765577"
      },
      "execution_count": null,
      "outputs": [
        {
          "output_type": "stream",
          "name": "stdout",
          "text": [
            "--2024-04-09 11:10:43--  https://developer.download.nvidia.com/compute/cuda/repos/ubuntu2204/x86_64/cuda-keyring_1.0-1_all.deb\n",
            "Resolving developer.download.nvidia.com (developer.download.nvidia.com)... 152.199.39.144\n",
            "Connecting to developer.download.nvidia.com (developer.download.nvidia.com)|152.199.39.144|:443... connected.\n",
            "HTTP request sent, awaiting response... 200 OK\n",
            "Length: 4332 (4.2K) [application/x-deb]\n",
            "Saving to: ‘cuda-keyring_1.0-1_all.deb’\n",
            "\n",
            "\r          cuda-keyr   0%[                    ]       0  --.-KB/s               \rcuda-keyring_1.0-1_ 100%[===================>]   4.23K  --.-KB/s    in 0s      \n",
            "\n",
            "2024-04-09 11:10:43 (146 MB/s) - ‘cuda-keyring_1.0-1_all.deb’ saved [4332/4332]\n",
            "\n",
            "(Reading database ... 121753 files and directories currently installed.)\n",
            "Preparing to unpack cuda-keyring_1.0-1_all.deb ...\n",
            "Unpacking cuda-keyring (1.0-1) over (1.0-1) ...\n",
            "Setting up cuda-keyring (1.0-1) ...\n",
            "\n",
            "A deprecated public CUDA GPG key appear to be installed.\n",
            "To remove the key, run this command:\n",
            "sudo apt-key del 7fa2af80\n",
            "\n",
            "Get:1 https://cloud.r-project.org/bin/linux/ubuntu jammy-cran40/ InRelease [3,626 B]\n",
            "Get:2 https://developer.download.nvidia.com/compute/cuda/repos/ubuntu2204/x86_64  InRelease [1,581 B]\n",
            "Get:3 https://developer.download.nvidia.com/compute/cuda/repos/ubuntu2204/x86_64  Packages [805 kB]\n",
            "Hit:4 http://archive.ubuntu.com/ubuntu jammy InRelease\n",
            "Get:5 http://security.ubuntu.com/ubuntu jammy-security InRelease [110 kB]\n",
            "Get:6 http://archive.ubuntu.com/ubuntu jammy-updates InRelease [119 kB]\n",
            "Hit:7 https://ppa.launchpadcontent.net/c2d4u.team/c2d4u4.0+/ubuntu jammy InRelease\n",
            "Get:8 https://ppa.launchpadcontent.net/deadsnakes/ppa/ubuntu jammy InRelease [18.1 kB]\n",
            "Hit:9 https://ppa.launchpadcontent.net/graphics-drivers/ppa/ubuntu jammy InRelease\n",
            "Hit:10 https://ppa.launchpadcontent.net/ubuntugis/ppa/ubuntu jammy InRelease\n",
            "Get:11 https://ppa.launchpadcontent.net/deadsnakes/ppa/ubuntu jammy/main amd64 Packages [27.7 kB]\n",
            "Hit:12 http://archive.ubuntu.com/ubuntu jammy-backports InRelease\n",
            "Get:13 http://security.ubuntu.com/ubuntu jammy-security/restricted amd64 Packages [2,124 kB]\n",
            "Get:14 http://archive.ubuntu.com/ubuntu jammy-updates/multiverse amd64 Packages [61.3 kB]\n",
            "Get:15 http://archive.ubuntu.com/ubuntu jammy-updates/restricted amd64 Packages [2,166 kB]\n",
            "Get:16 http://security.ubuntu.com/ubuntu jammy-security/main amd64 Packages [1,690 kB]\n",
            "Get:17 http://security.ubuntu.com/ubuntu jammy-security/multiverse amd64 Packages [44.7 kB]\n",
            "Get:18 http://archive.ubuntu.com/ubuntu jammy-updates/universe amd64 Packages [1,357 kB]\n",
            "Get:19 http://archive.ubuntu.com/ubuntu jammy-updates/main amd64 Packages [1,969 kB]\n",
            "Fetched 10.5 MB in 4s (2,569 kB/s)\n",
            "Reading package lists... Done\n",
            "Reading package lists... Done\n",
            "Building dependency tree... Done\n",
            "Reading state information... Done\n",
            "The following additional packages will be installed:\n",
            "  cuda-toolkit-11-8-config-common cuda-toolkit-11-config-common\n",
            "The following NEW packages will be installed:\n",
            "  cuda-cudart-11-8 cuda-toolkit-11-8-config-common cuda-toolkit-11-config-common libcublas-11-8\n",
            "  libcusolver-11-8\n",
            "0 upgraded, 5 newly installed, 0 to remove and 46 not upgraded.\n",
            "Need to get 300 MB of archives.\n",
            "After this operation, 1,159 MB of additional disk space will be used.\n",
            "Get:1 https://developer.download.nvidia.com/compute/cuda/repos/ubuntu2204/x86_64  cuda-toolkit-11-config-common 11.8.89-1 [16.4 kB]\n",
            "Get:2 https://developer.download.nvidia.com/compute/cuda/repos/ubuntu2204/x86_64  cuda-toolkit-11-8-config-common 11.8.89-1 [16.3 kB]\n",
            "Get:3 https://developer.download.nvidia.com/compute/cuda/repos/ubuntu2204/x86_64  cuda-cudart-11-8 11.8.89-1 [165 kB]\n",
            "Get:4 https://developer.download.nvidia.com/compute/cuda/repos/ubuntu2204/x86_64  libcublas-11-8 11.11.3.6-1 [248 MB]\n",
            "Get:5 https://developer.download.nvidia.com/compute/cuda/repos/ubuntu2204/x86_64  libcusolver-11-8 11.4.1.48-1 [52.3 MB]\n",
            "Fetched 300 MB in 7s (44.0 MB/s)\n",
            "Selecting previously unselected package cuda-toolkit-11-config-common.\n",
            "(Reading database ... 121753 files and directories currently installed.)\n",
            "Preparing to unpack .../cuda-toolkit-11-config-common_11.8.89-1_all.deb ...\n",
            "Unpacking cuda-toolkit-11-config-common (11.8.89-1) ...\n",
            "Selecting previously unselected package cuda-toolkit-11-8-config-common.\n",
            "Preparing to unpack .../cuda-toolkit-11-8-config-common_11.8.89-1_all.deb ...\n",
            "Unpacking cuda-toolkit-11-8-config-common (11.8.89-1) ...\n",
            "Selecting previously unselected package cuda-cudart-11-8.\n",
            "Preparing to unpack .../cuda-cudart-11-8_11.8.89-1_amd64.deb ...\n",
            "Unpacking cuda-cudart-11-8 (11.8.89-1) ...\n",
            "Selecting previously unselected package libcublas-11-8.\n",
            "Preparing to unpack .../libcublas-11-8_11.11.3.6-1_amd64.deb ...\n",
            "Unpacking libcublas-11-8 (11.11.3.6-1) ...\n",
            "Selecting previously unselected package libcusolver-11-8.\n",
            "Preparing to unpack .../libcusolver-11-8_11.4.1.48-1_amd64.deb ...\n",
            "Unpacking libcusolver-11-8 (11.4.1.48-1) ...\n",
            "Setting up cuda-toolkit-11-config-common (11.8.89-1) ...\n",
            "Setting up cuda-toolkit-11-8-config-common (11.8.89-1) ...\n",
            "Setting alternatives\n",
            "update-alternatives: using /usr/local/cuda-11.8 to provide /usr/local/cuda-11 (cuda-11) in auto mode\n",
            "Setting up libcusolver-11-8 (11.4.1.48-1) ...\n",
            "Setting up cuda-cudart-11-8 (11.8.89-1) ...\n",
            "Setting up libcublas-11-8 (11.11.3.6-1) ...\n",
            "Processing triggers for libc-bin (2.35-0ubuntu3.4) ...\n",
            "/sbin/ldconfig.real: /usr/local/lib/libtbbbind_2_5.so.3 is not a symbolic link\n",
            "\n",
            "/sbin/ldconfig.real: /usr/local/lib/libtbbmalloc_proxy.so.2 is not a symbolic link\n",
            "\n",
            "/sbin/ldconfig.real: /usr/local/lib/libtbb.so.12 is not a symbolic link\n",
            "\n",
            "/sbin/ldconfig.real: /usr/local/lib/libtbbbind.so.3 is not a symbolic link\n",
            "\n",
            "/sbin/ldconfig.real: /usr/local/lib/libtbbbind_2_0.so.3 is not a symbolic link\n",
            "\n",
            "/sbin/ldconfig.real: /usr/local/lib/libtbbmalloc.so.2 is not a symbolic link\n",
            "\n",
            "Collecting cuda-quantum==0.6.0\n",
            "  Downloading cuda_quantum-0.6.0-cp310-cp310-manylinux_2_28_x86_64.whl (59.0 MB)\n",
            "\u001b[2K     \u001b[90m━━━━━━━━━━━━━━━━━━━━━━━━━━━━━━━━━━━━━━━━\u001b[0m \u001b[32m59.0/59.0 MB\u001b[0m \u001b[31m11.6 MB/s\u001b[0m eta \u001b[36m0:00:00\u001b[0m\n",
            "\u001b[?25hCollecting cuquantum-cu11~=23.10 (from cuda-quantum==0.6.0)\n",
            "  Downloading cuquantum_cu11-23.10.0-py3-none-manylinux2014_x86_64.whl (7.0 kB)\n",
            "Collecting custatevec-cu11==1.5.0 (from cuquantum-cu11~=23.10->cuda-quantum==0.6.0)\n",
            "  Downloading custatevec_cu11-1.5.0-py3-none-manylinux2014_x86_64.whl (38.9 MB)\n",
            "\u001b[2K     \u001b[90m━━━━━━━━━━━━━━━━━━━━━━━━━━━━━━━━━━━━━━━━\u001b[0m \u001b[32m38.9/38.9 MB\u001b[0m \u001b[31m37.7 MB/s\u001b[0m eta \u001b[36m0:00:00\u001b[0m\n",
            "\u001b[?25hCollecting cutensornet-cu11==2.3.0 (from cuquantum-cu11~=23.10->cuda-quantum==0.6.0)\n",
            "  Downloading cutensornet_cu11-2.3.0-py3-none-manylinux2014_x86_64.whl (2.2 MB)\n",
            "\u001b[2K     \u001b[90m━━━━━━━━━━━━━━━━━━━━━━━━━━━━━━━━━━━━━━━━\u001b[0m \u001b[32m2.2/2.2 MB\u001b[0m \u001b[31m89.9 MB/s\u001b[0m eta \u001b[36m0:00:00\u001b[0m\n",
            "\u001b[?25hCollecting cutensor-cu11<2,>=1.6.1 (from cutensornet-cu11==2.3.0->cuquantum-cu11~=23.10->cuda-quantum==0.6.0)\n",
            "  Downloading cutensor_cu11-1.7.0-py3-none-manylinux2014_x86_64.whl (142.1 MB)\n",
            "\u001b[2K     \u001b[90m━━━━━━━━━━━━━━━━━━━━━━━━━━━━━━━━━━━━━━━━\u001b[0m \u001b[32m142.1/142.1 MB\u001b[0m \u001b[31m2.6 MB/s\u001b[0m eta \u001b[36m0:00:00\u001b[0m\n",
            "\u001b[?25hInstalling collected packages: cutensor-cu11, custatevec-cu11, cutensornet-cu11, cuquantum-cu11, cuda-quantum\n",
            "Successfully installed cuda-quantum-0.6.0 cuquantum-cu11-23.10.0 custatevec-cu11-1.5.0 cutensor-cu11-1.7.0 cutensornet-cu11-2.3.0\n"
          ]
        }
      ]
    },
    {
      "cell_type": "markdown",
      "metadata": {
        "id": "WTxVuujNaPFG"
      },
      "source": [
        "# Multi GPU simulations\n",
        "\n",
        "Below we will explore how CUDAQ can seamlessly utilize multiple GPUs and multiple QPUs in the future.\n",
        "\n",
        "1. Scale qubit count to access second and third GPU\n",
        "2. Distribute collection of x_train on multiple GPUs asynchronously\n",
        "3. Distribute collection of terms in a given hamiltonian\n",
        "4. Execute different kernels on different GPUs"
      ]
    },
    {
      "cell_type": "markdown",
      "source": [
        "**Note that there is only single GPU available on Colab!**"
      ],
      "metadata": {
        "id": "qpq2PkcGakQH"
      }
    },
    {
      "cell_type": "code",
      "execution_count": null,
      "metadata": {
        "id": "L_0Imw-JaPFI"
      },
      "outputs": [],
      "source": [
        "import cudaq\n",
        "from cudaq import spin\n",
        "import numpy as np\n",
        "\n",
        "# cudaq.set_target('nvidia')\n",
        "# cudaq.set_target('nvidia-mgpu')\n",
        "# cudaq.set_target('qpp-cpu')\n",
        "cudaq.set_target('nvidia-mqpu')"
      ]
    },
    {
      "cell_type": "markdown",
      "metadata": {
        "id": "jKiRxOWbaPFI"
      },
      "source": [
        "# Scaling qubit count to go beyond single GPU memory requirements"
      ]
    },
    {
      "cell_type": "code",
      "execution_count": null,
      "metadata": {
        "colab": {
          "base_uri": "https://localhost:8080/"
        },
        "id": "_mMD3TdVaPFI",
        "outputId": "dcdc3e9f-3b7a-4deb-b59d-35b94bd06056"
      },
      "outputs": [
        {
          "output_type": "stream",
          "name": "stdout",
          "text": [
            "Single GPU/MIG execution time: 10.943807125091553\n"
          ]
        }
      ],
      "source": [
        "n_qubits = 20\n",
        "n_samples = 1000\n",
        "h = spin.z(0)\n",
        "\n",
        "n_parameters = n_qubits*3\n",
        "parameters = np.random.default_rng(13).uniform(low=0, high=1, size = (n_samples,n_parameters))\n",
        "np.random.seed(1)\n",
        "\n",
        "\n",
        "kernel, params = cudaq.make_kernel(list)\n",
        "\n",
        "qubits = kernel.qalloc(n_qubits)\n",
        "qubits_list = list(range(n_qubits))\n",
        "\n",
        "for i in range(n_qubits):\n",
        "    kernel.rx(params[i], qubits[i])\n",
        "\n",
        "for i in range(n_qubits):\n",
        "    kernel.ry(params[i + n_qubits], qubits[i])\n",
        "\n",
        "for i in range(n_qubits):\n",
        "    kernel.rz(params[i + n_qubits*2], qubits[i])\n",
        "\n",
        "for q1, q2 in zip(qubits_list[0::2], qubits_list[1::2]):\n",
        "    kernel.cz(qubits[q1], qubits[q2])\n",
        "\n",
        "# exp_vals = cudaq.observe_n(kernel, h, parameters)\n",
        "\n",
        "import time\n",
        "t0 = time.time()\n",
        "exp_vals = [cudaq.observe(kernel, h, parameters[i]) for i in range(parameters.shape[0])]\n",
        "print(\"Single GPU/MIG execution time:\", time.time()-t0)"
      ]
    },
    {
      "cell_type": "markdown",
      "metadata": {
        "id": "9uM5Xo1CaPFJ"
      },
      "source": [
        "# Asynchronous data collection via batching x_train"
      ]
    },
    {
      "cell_type": "code",
      "source": [
        "import subprocess\n",
        "\n",
        "num_qpus = str(subprocess.check_output([\"nvidia-smi\", \"-L\"])).count('UUID')\n",
        "print(\"The number of GPUs used for distributed QPU simulations:\", num_qpus)"
      ],
      "metadata": {
        "colab": {
          "base_uri": "https://localhost:8080/"
        },
        "id": "Z_4h66U7bkoh",
        "outputId": "3dfcc544-9a8b-4c88-e10b-0b1de7012981"
      },
      "execution_count": null,
      "outputs": [
        {
          "output_type": "stream",
          "name": "stdout",
          "text": [
            "The number of GPUs used for distributed QPU simulations: 1\n"
          ]
        }
      ]
    },
    {
      "cell_type": "code",
      "execution_count": null,
      "metadata": {
        "colab": {
          "base_uri": "https://localhost:8080/"
        },
        "id": "EsS_IaaCaPFJ",
        "outputId": "7b3ec0ee-b047-41a6-bb7d-2352c324f119"
      },
      "outputs": [
        {
          "output_type": "stream",
          "name": "stdout",
          "text": [
            "(1000, 60)\n",
            "1\n",
            "(1000, 60)\n"
          ]
        }
      ],
      "source": [
        "print(parameters.shape)\n",
        "\n",
        "xi = np.split(parameters, num_qpus)\n",
        "\n",
        "print(len(xi))\n",
        "\n",
        "print(xi[0].shape)"
      ]
    },
    {
      "cell_type": "code",
      "execution_count": null,
      "metadata": {
        "colab": {
          "base_uri": "https://localhost:8080/"
        },
        "id": "bpaNaEqFaPFJ",
        "outputId": "b029a862-4a4a-4824-b4ee-89872c2ed5bf"
      },
      "outputs": [
        {
          "output_type": "stream",
          "name": "stdout",
          "text": [
            "Execution time using 1 GPUs/MIGs: 8.257975339889526\n"
          ]
        }
      ],
      "source": [
        "asyncresults = []\n",
        "\n",
        "t0 = time.time()\n",
        "for i in range(len(xi)):\n",
        "    for j in range(xi[i].shape[0]):\n",
        "        asyncresults.append(cudaq.observe_async(kernel, h, xi[i][j,:], qpu_id = i))\n",
        "\n",
        "expvals = []\n",
        "for res in asyncresults:\n",
        "    expvals.append(res.get().expectation())\n",
        "print(\"Execution time using\", num_qpus, \"GPUs/MIGs:\", time.time()-t0)"
      ]
    },
    {
      "cell_type": "markdown",
      "metadata": {
        "id": "R2T80iq7aPFJ"
      },
      "source": [
        "# Asynchronous data collection via batching hamiltonian terms"
      ]
    },
    {
      "cell_type": "code",
      "execution_count": null,
      "metadata": {
        "colab": {
          "base_uri": "https://localhost:8080/"
        },
        "id": "czcr9RDHaPFJ",
        "outputId": "b8e57f64-b1e2-4e63-b3b6-adb65dd9d47d"
      },
      "outputs": [
        {
          "output_type": "stream",
          "name": "stdout",
          "text": [
            "Single GPU/MIG execution time: 0.12469935417175293\n",
            "The expectation value = 0.51\n"
          ]
        }
      ],
      "source": [
        "n_qubits = 10\n",
        "n_terms = 1000\n",
        "\n",
        "# Create a parameterized ansatz kernel\n",
        "kernel, params = cudaq.make_kernel(list)\n",
        "\n",
        "qubits = kernel.qalloc(n_qubits)\n",
        "qubits_list = list(range(n_qubits))\n",
        "\n",
        "for i in range(n_qubits):\n",
        "    kernel.rx(params[i], qubits[i])\n",
        "\n",
        "for i in range(n_qubits):\n",
        "    kernel.ry(params[i + n_qubits], qubits[i])\n",
        "\n",
        "for i in range(n_qubits):\n",
        "    kernel.rz(params[i + n_qubits*2], qubits[i])\n",
        "\n",
        "for q1, q2 in zip(qubits_list[0::2], qubits_list[1::2]):\n",
        "    kernel.cz(qubits[q1], qubits[q2])\n",
        "\n",
        "# We create a random hamiltonian with 10e3 terms\n",
        "hamiltonian = cudaq.SpinOperator.random(n_qubits, n_terms)\n",
        "\n",
        "# Create some random parameters\n",
        "n_parameters = n_qubits*3\n",
        "parameters = np.random.default_rng(13).uniform(low=-1., high=1., size = n_parameters)\n",
        "np.random.seed(1)\n",
        "\n",
        "\n",
        "t0 = time.time()\n",
        "expectation = cudaq.observe(\n",
        "    kernel, hamiltonian, parameters)  # Single GPU.\n",
        "print(\"Single GPU/MIG execution time:\", time.time()-t0)\n",
        "\n",
        "print(\"The expectation value =\", round(expectation.expectation(), 2))"
      ]
    },
    {
      "cell_type": "code",
      "execution_count": null,
      "metadata": {
        "colab": {
          "base_uri": "https://localhost:8080/"
        },
        "id": "1lf8Ck64aPFJ",
        "outputId": "546486d1-995b-4910-bf57-641d3343792e"
      },
      "outputs": [
        {
          "output_type": "stream",
          "name": "stdout",
          "text": [
            "Execution time using 1 GPUs/MIGs: 0.1143953800201416\n",
            "The expectation value = 0.51\n"
          ]
        }
      ],
      "source": [
        "t0 = time.time()\n",
        "expectation = cudaq.observe(\n",
        "    kernel, hamiltonian, parameters,\n",
        "    execution=cudaq.parallel.thread)  # Single node, multi-GPU.\n",
        "print(\"Execution time using\", num_qpus, \"GPUs/MIGs:\", time.time()-t0)\n",
        "\n",
        "print(\"The expectation value =\", round(expectation.expectation(), 2))"
      ]
    },
    {
      "cell_type": "markdown",
      "metadata": {
        "id": "9X0VLTS8aPFJ"
      },
      "source": [
        "# Different kernels being executed at the same time"
      ]
    },
    {
      "cell_type": "code",
      "execution_count": null,
      "metadata": {
        "id": "luv1KwNnaPFJ"
      },
      "outputs": [],
      "source": [
        "cudaq.set_target('nvidia-mqpu')\n",
        "\n",
        "n_qubits = 10\n",
        "n_samples = 500\n",
        "h = spin.z(0)\n",
        "\n",
        "n_parameters = n_qubits\n",
        "parameters = np.random.default_rng(13).uniform(low=0, high=1, size = (n_samples,n_parameters))\n",
        "np.random.seed(1)\n",
        "\n",
        "###################################################\n",
        "\n",
        "kernel1, params = cudaq.make_kernel(list)\n",
        "\n",
        "qubits = kernel1.qalloc(n_qubits)\n",
        "\n",
        "for i in range(n_qubits):\n",
        "    kernel1.rx(params[i], qubits[i])\n",
        "\n",
        "###################################################\n",
        "\n",
        "kernel2, params = cudaq.make_kernel(list)\n",
        "\n",
        "qubits = kernel2.qalloc(n_qubits)\n",
        "\n",
        "for i in range(n_qubits):\n",
        "    kernel2.ry(params[i], qubits[i])\n"
      ]
    },
    {
      "cell_type": "code",
      "execution_count": null,
      "metadata": {
        "id": "vxj_bdLZaPFJ"
      },
      "outputs": [],
      "source": [
        "exp_vals1 = [cudaq.observe_async(kernel1, h, parameters[i], qpu_id = 0) for i in range(parameters.shape[0])]\n",
        "#exp_vals2 = [cudaq.observe_async(kernel2, h, parameters[i], qpu_id = 1) for i in range(parameters.shape[0])]"
      ]
    }
  ],
  "metadata": {
    "kernelspec": {
      "display_name": "Python 3",
      "name": "python3"
    },
    "language_info": {
      "codemirror_mode": {
        "name": "ipython",
        "version": 3
      },
      "file_extension": ".py",
      "mimetype": "text/x-python",
      "name": "python",
      "nbconvert_exporter": "python",
      "pygments_lexer": "ipython3",
      "version": "3.10.12"
    },
    "vscode": {
      "interpreter": {
        "hash": "31f2aee4e71d21fbe5cf8b01ff0e069b9275f58929596ceb00d14d90e3e16cd6"
      }
    },
    "colab": {
      "provenance": [],
      "gpuType": "T4",
      "include_colab_link": true
    },
    "accelerator": "GPU"
  },
  "nbformat": 4,
  "nbformat_minor": 0
}