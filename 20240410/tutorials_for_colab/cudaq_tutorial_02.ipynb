{
  "cells": [
    {
      "cell_type": "markdown",
      "metadata": {
        "id": "view-in-github",
        "colab_type": "text"
      },
      "source": [
        "<a href=\"https://colab.research.google.com/github/Squirtle007/CUDA_Quantum/blob/main/colab/cudaq_tutorial_02.ipynb\" target=\"_parent\"><img src=\"https://colab.research.google.com/assets/colab-badge.svg\" alt=\"Open In Colab\"/></a>"
      ]
    },
    {
      "cell_type": "markdown",
      "source": [
        "**Set up CUDA Quantum Environment**"
      ],
      "metadata": {
        "id": "eJQdf8RpLWq0"
      }
    },
    {
      "cell_type": "code",
      "source": [
        "#The following commands are used to set up the environment in Colab\n",
        "!wget https://developer.download.nvidia.com/compute/cuda/repos/ubuntu2204/x86_64/cuda-keyring_1.0-1_all.deb\n",
        "!dpkg -i cuda-keyring_1.0-1_all.deb\n",
        "!apt-get update\n",
        "!apt-get -y install libcublas-11-8 libcusolver-11-8 cuda-cudart-11-8\n",
        "\n",
        "%pip install cuda-quantum==0.6.0"
      ],
      "metadata": {
        "colab": {
          "base_uri": "https://localhost:8080/"
        },
        "id": "hP_lOe23LUQX",
        "outputId": "44506faf-94b1-42b8-c25c-ff30ac9082b7"
      },
      "execution_count": 1,
      "outputs": [
        {
          "output_type": "stream",
          "name": "stdout",
          "text": [
            "--2024-04-09 09:45:00--  https://developer.download.nvidia.com/compute/cuda/repos/ubuntu2204/x86_64/cuda-keyring_1.0-1_all.deb\n",
            "Resolving developer.download.nvidia.com (developer.download.nvidia.com)... 152.195.19.142\n",
            "Connecting to developer.download.nvidia.com (developer.download.nvidia.com)|152.195.19.142|:443... connected.\n",
            "HTTP request sent, awaiting response... 200 OK\n",
            "Length: 4332 (4.2K) [application/x-deb]\n",
            "Saving to: ‘cuda-keyring_1.0-1_all.deb’\n",
            "\n",
            "\r          cuda-keyr   0%[                    ]       0  --.-KB/s               \rcuda-keyring_1.0-1_ 100%[===================>]   4.23K  --.-KB/s    in 0s      \n",
            "\n",
            "2024-04-09 09:45:00 (261 MB/s) - ‘cuda-keyring_1.0-1_all.deb’ saved [4332/4332]\n",
            "\n",
            "(Reading database ... 121753 files and directories currently installed.)\n",
            "Preparing to unpack cuda-keyring_1.0-1_all.deb ...\n",
            "Unpacking cuda-keyring (1.0-1) over (1.0-1) ...\n",
            "Setting up cuda-keyring (1.0-1) ...\n",
            "\n",
            "A deprecated public CUDA GPG key appear to be installed.\n",
            "To remove the key, run this command:\n",
            "sudo apt-key del 7fa2af80\n",
            "\n",
            "Get:1 https://cloud.r-project.org/bin/linux/ubuntu jammy-cran40/ InRelease [3,626 B]\n",
            "Get:2 https://developer.download.nvidia.com/compute/cuda/repos/ubuntu2204/x86_64  InRelease [1,581 B]\n",
            "Hit:3 http://archive.ubuntu.com/ubuntu jammy InRelease\n",
            "Get:4 https://developer.download.nvidia.com/compute/cuda/repos/ubuntu2204/x86_64  Packages [805 kB]\n",
            "Get:5 http://archive.ubuntu.com/ubuntu jammy-updates InRelease [119 kB]\n",
            "Hit:6 http://archive.ubuntu.com/ubuntu jammy-backports InRelease\n",
            "Get:7 http://archive.ubuntu.com/ubuntu jammy-updates/restricted amd64 Packages [2,166 kB]\n",
            "Get:8 http://security.ubuntu.com/ubuntu jammy-security InRelease [110 kB]\n",
            "Get:9 http://archive.ubuntu.com/ubuntu jammy-updates/multiverse amd64 Packages [61.3 kB]\n",
            "Get:10 http://archive.ubuntu.com/ubuntu jammy-updates/universe amd64 Packages [1,357 kB]\n",
            "Hit:11 https://ppa.launchpadcontent.net/c2d4u.team/c2d4u4.0+/ubuntu jammy InRelease\n",
            "Get:12 http://archive.ubuntu.com/ubuntu jammy-updates/main amd64 Packages [1,969 kB]\n",
            "Get:13 https://ppa.launchpadcontent.net/deadsnakes/ppa/ubuntu jammy InRelease [18.1 kB]\n",
            "Hit:14 https://ppa.launchpadcontent.net/graphics-drivers/ppa/ubuntu jammy InRelease\n",
            "Hit:15 https://ppa.launchpadcontent.net/ubuntugis/ppa/ubuntu jammy InRelease\n",
            "Get:16 https://ppa.launchpadcontent.net/deadsnakes/ppa/ubuntu jammy/main amd64 Packages [27.7 kB]\n",
            "Get:17 http://security.ubuntu.com/ubuntu jammy-security/main amd64 Packages [1,690 kB]\n",
            "Get:18 http://security.ubuntu.com/ubuntu jammy-security/multiverse amd64 Packages [44.7 kB]\n",
            "Get:19 http://security.ubuntu.com/ubuntu jammy-security/restricted amd64 Packages [2,124 kB]\n",
            "Fetched 10.5 MB in 5s (2,182 kB/s)\n",
            "Reading package lists... Done\n",
            "Reading package lists... Done\n",
            "Building dependency tree... Done\n",
            "Reading state information... Done\n",
            "The following additional packages will be installed:\n",
            "  cuda-toolkit-11-8-config-common cuda-toolkit-11-config-common\n",
            "The following NEW packages will be installed:\n",
            "  cuda-cudart-11-8 cuda-toolkit-11-8-config-common cuda-toolkit-11-config-common libcublas-11-8\n",
            "  libcusolver-11-8\n",
            "0 upgraded, 5 newly installed, 0 to remove and 46 not upgraded.\n",
            "Need to get 300 MB of archives.\n",
            "After this operation, 1,159 MB of additional disk space will be used.\n",
            "Get:1 https://developer.download.nvidia.com/compute/cuda/repos/ubuntu2204/x86_64  cuda-toolkit-11-config-common 11.8.89-1 [16.4 kB]\n",
            "Get:2 https://developer.download.nvidia.com/compute/cuda/repos/ubuntu2204/x86_64  cuda-toolkit-11-8-config-common 11.8.89-1 [16.3 kB]\n",
            "Get:3 https://developer.download.nvidia.com/compute/cuda/repos/ubuntu2204/x86_64  cuda-cudart-11-8 11.8.89-1 [165 kB]\n",
            "Get:4 https://developer.download.nvidia.com/compute/cuda/repos/ubuntu2204/x86_64  libcublas-11-8 11.11.3.6-1 [248 MB]\n",
            "Get:5 https://developer.download.nvidia.com/compute/cuda/repos/ubuntu2204/x86_64  libcusolver-11-8 11.4.1.48-1 [52.3 MB]\n",
            "Fetched 300 MB in 5s (66.2 MB/s)\n",
            "Selecting previously unselected package cuda-toolkit-11-config-common.\n",
            "(Reading database ... 121753 files and directories currently installed.)\n",
            "Preparing to unpack .../cuda-toolkit-11-config-common_11.8.89-1_all.deb ...\n",
            "Unpacking cuda-toolkit-11-config-common (11.8.89-1) ...\n",
            "Selecting previously unselected package cuda-toolkit-11-8-config-common.\n",
            "Preparing to unpack .../cuda-toolkit-11-8-config-common_11.8.89-1_all.deb ...\n",
            "Unpacking cuda-toolkit-11-8-config-common (11.8.89-1) ...\n",
            "Selecting previously unselected package cuda-cudart-11-8.\n",
            "Preparing to unpack .../cuda-cudart-11-8_11.8.89-1_amd64.deb ...\n",
            "Unpacking cuda-cudart-11-8 (11.8.89-1) ...\n",
            "Selecting previously unselected package libcublas-11-8.\n",
            "Preparing to unpack .../libcublas-11-8_11.11.3.6-1_amd64.deb ...\n",
            "Unpacking libcublas-11-8 (11.11.3.6-1) ...\n",
            "Selecting previously unselected package libcusolver-11-8.\n",
            "Preparing to unpack .../libcusolver-11-8_11.4.1.48-1_amd64.deb ...\n",
            "Unpacking libcusolver-11-8 (11.4.1.48-1) ...\n",
            "Setting up cuda-toolkit-11-config-common (11.8.89-1) ...\n",
            "Setting up cuda-toolkit-11-8-config-common (11.8.89-1) ...\n",
            "Setting alternatives\n",
            "update-alternatives: using /usr/local/cuda-11.8 to provide /usr/local/cuda-11 (cuda-11) in auto mode\n",
            "Setting up libcusolver-11-8 (11.4.1.48-1) ...\n",
            "Setting up cuda-cudart-11-8 (11.8.89-1) ...\n",
            "Setting up libcublas-11-8 (11.11.3.6-1) ...\n",
            "Processing triggers for libc-bin (2.35-0ubuntu3.4) ...\n",
            "/sbin/ldconfig.real: /usr/local/lib/libtbbbind_2_5.so.3 is not a symbolic link\n",
            "\n",
            "/sbin/ldconfig.real: /usr/local/lib/libtbbmalloc_proxy.so.2 is not a symbolic link\n",
            "\n",
            "/sbin/ldconfig.real: /usr/local/lib/libtbb.so.12 is not a symbolic link\n",
            "\n",
            "/sbin/ldconfig.real: /usr/local/lib/libtbbbind.so.3 is not a symbolic link\n",
            "\n",
            "/sbin/ldconfig.real: /usr/local/lib/libtbbbind_2_0.so.3 is not a symbolic link\n",
            "\n",
            "/sbin/ldconfig.real: /usr/local/lib/libtbbmalloc.so.2 is not a symbolic link\n",
            "\n",
            "Collecting cuda-quantum==0.6.0\n",
            "  Downloading cuda_quantum-0.6.0-cp310-cp310-manylinux_2_28_x86_64.whl (59.0 MB)\n",
            "\u001b[2K     \u001b[90m━━━━━━━━━━━━━━━━━━━━━━━━━━━━━━━━━━━━━━━━\u001b[0m \u001b[32m59.0/59.0 MB\u001b[0m \u001b[31m11.2 MB/s\u001b[0m eta \u001b[36m0:00:00\u001b[0m\n",
            "\u001b[?25hCollecting cuquantum-cu11~=23.10 (from cuda-quantum==0.6.0)\n",
            "  Downloading cuquantum_cu11-23.10.0-py3-none-manylinux2014_x86_64.whl (7.0 kB)\n",
            "Collecting custatevec-cu11==1.5.0 (from cuquantum-cu11~=23.10->cuda-quantum==0.6.0)\n",
            "  Downloading custatevec_cu11-1.5.0-py3-none-manylinux2014_x86_64.whl (38.9 MB)\n",
            "\u001b[2K     \u001b[90m━━━━━━━━━━━━━━━━━━━━━━━━━━━━━━━━━━━━━━━━\u001b[0m \u001b[32m38.9/38.9 MB\u001b[0m \u001b[31m29.7 MB/s\u001b[0m eta \u001b[36m0:00:00\u001b[0m\n",
            "\u001b[?25hCollecting cutensornet-cu11==2.3.0 (from cuquantum-cu11~=23.10->cuda-quantum==0.6.0)\n",
            "  Downloading cutensornet_cu11-2.3.0-py3-none-manylinux2014_x86_64.whl (2.2 MB)\n",
            "\u001b[2K     \u001b[90m━━━━━━━━━━━━━━━━━━━━━━━━━━━━━━━━━━━━━━━━\u001b[0m \u001b[32m2.2/2.2 MB\u001b[0m \u001b[31m88.6 MB/s\u001b[0m eta \u001b[36m0:00:00\u001b[0m\n",
            "\u001b[?25hCollecting cutensor-cu11<2,>=1.6.1 (from cutensornet-cu11==2.3.0->cuquantum-cu11~=23.10->cuda-quantum==0.6.0)\n",
            "  Downloading cutensor_cu11-1.7.0-py3-none-manylinux2014_x86_64.whl (142.1 MB)\n",
            "\u001b[2K     \u001b[90m━━━━━━━━━━━━━━━━━━━━━━━━━━━━━━━━━━━━━━━━\u001b[0m \u001b[32m142.1/142.1 MB\u001b[0m \u001b[31m7.3 MB/s\u001b[0m eta \u001b[36m0:00:00\u001b[0m\n",
            "\u001b[?25hInstalling collected packages: cutensor-cu11, custatevec-cu11, cutensornet-cu11, cuquantum-cu11, cuda-quantum\n",
            "Successfully installed cuda-quantum-0.6.0 cuquantum-cu11-23.10.0 custatevec-cu11-1.5.0 cutensor-cu11-1.7.0 cutensornet-cu11-2.3.0\n"
          ]
        }
      ]
    },
    {
      "cell_type": "markdown",
      "metadata": {
        "id": "2mCVAAX593cR"
      },
      "source": [
        "# Recap\n"
      ]
    },
    {
      "cell_type": "markdown",
      "metadata": {
        "id": "6i-YWEi393cX"
      },
      "source": [
        "    \n",
        "* CUDA Quantum kernels\n",
        "    https://nvidia.github.io/cuda-quantum/latest/using/cudaq/kernel.html\n",
        "* Algorithmic primitives\n",
        "    https://nvidia.github.io/cuda-quantum/latest/index.html\n",
        "* Targets\n",
        "    https://github.com/NVIDIA/cuda-quantum"
      ]
    },
    {
      "cell_type": "markdown",
      "metadata": {
        "id": "H27rwslL93cZ"
      },
      "source": [
        "# CUDA Quantum Tutorial #2\n"
      ]
    },
    {
      "cell_type": "markdown",
      "metadata": {
        "id": "xwuTnqVg93ca"
      },
      "source": [
        "\n",
        "\n",
        "* Kernel builder\n",
        "    https://nvidia.github.io/cuda-quantum/latest/using/cudaq/builder.html\n",
        "\n",
        "* Simulation backends\n",
        "    https://nvidia.github.io/cuda-quantum/latest/using/simulators.html\n",
        "\n",
        "* Variational algorithms\n",
        "    https://nvidia.github.io/cuda-quantum/latest/using/cudaq/variational.html\n",
        "\n",
        "\n",
        "Outline\n",
        "\n",
        "- 1. CUDA Quantum Kernels continued\n",
        "    - 1.1 Adjoint\n",
        "    - 1.2 Conditionals\n",
        "\n",
        "- 2. Variational quantum algorithms (VQAs)\n",
        "    - 2.1 General\n",
        "    - 2.2 VQA in CUDA Q\n",
        "        - 2.2.1 Using cudaq::observe and optimize explicitly\n",
        "        - 2.2.2 using cudaq.vqe()\n",
        "\n",
        "- 3. Targets continued\n",
        "    - 3.1 Hardware backends\n",
        "        - 3.1.1 Quantum hadrware integration\n",
        "    - 3.2 Quantum Circuit Simulation\n",
        "        - 3.2.1 cuQuantum Simulator backends\n",
        "            - Statevector (custatevec)\n",
        "            - Tensornet (cutensornet)\n",
        "        - 3.2.2 Density-matrix (dm)\n",
        "\n",
        "- 4. Noise modeling\n",
        "    - 4.1 Background\n",
        "    - 4.2 With density-matrix (dm) backend\n",
        "\n",
        "    "
      ]
    },
    {
      "cell_type": "markdown",
      "metadata": {
        "id": "JnH3XmMm93cb"
      },
      "source": [
        "### 1. CUDA Quantum Kernels continued"
      ]
    },
    {
      "cell_type": "markdown",
      "metadata": {
        "id": "VF9Ve36993cb"
      },
      "source": [
        "#### 1.1 Adjoint of a Kernel"
      ]
    },
    {
      "cell_type": "code",
      "execution_count": 8,
      "metadata": {
        "id": "ZEfPBcRm93cc"
      },
      "outputs": [],
      "source": [
        "import cudaq\n",
        "\n",
        "# Create a kernel and do some operations\n",
        "other_kernel = cudaq.make_kernel()\n",
        "other_qubit = other_kernel.qalloc()\n",
        "other_kernel.x(other_qubit)\n",
        "\n",
        "# Create a kernel, which'll be the adjoint of other_kernel\n",
        "kernel = cudaq.make_kernel()\n",
        "kernel.adjoint(other_kernel)\n"
      ]
    },
    {
      "cell_type": "markdown",
      "metadata": {
        "id": "jPlKoAmo93cf"
      },
      "source": [
        "#### 1.2 Conditional Measurement"
      ]
    },
    {
      "cell_type": "code",
      "execution_count": 56,
      "metadata": {
        "colab": {
          "base_uri": "https://localhost:8080/"
        },
        "id": "pkOvRgGE93cg",
        "outputId": "0d770c9c-964e-486b-e806-52d9307aa901"
      },
      "outputs": [
        {
          "output_type": "stream",
          "name": "stdout",
          "text": [
            "{ \n",
            "  __global__ : { 0:30 }\n",
            "   auto_register_14 : { 1:30 }\n",
            "}\n",
            "\n",
            "The count of '0' state: 30\n"
          ]
        }
      ],
      "source": [
        "# The conditional measurement functionality of `cudaq.kernel`\n",
        "import cudaq\n",
        "\n",
        "cudaq.set_target(\"nvidia\")\n",
        "\n",
        "kernel = cudaq.make_kernel()\n",
        "qubit = kernel.qalloc()\n",
        "\n",
        "def then_function():\n",
        "    kernel.x(qubit)\n",
        "\n",
        "kernel.x(qubit)\n",
        "\n",
        "# Measure the qubit.\n",
        "measurement_ = kernel.mz(qubit)\n",
        "# Apply `then_function` to the `kernel` if\n",
        "# the qubit was measured in the 1-state.\n",
        "kernel.c_if(measurement_, then_function)\n",
        "\n",
        "# Measure the qubit again.\n",
        "result = cudaq.sample(kernel, shots_count=30)\n",
        "print(result)\n",
        "\n",
        "# Qubit should be in the 0-state after undergoing\n",
        "# two X rotations.\n",
        "print(\"The count of '0' state:\", result['0'])"
      ]
    },
    {
      "cell_type": "markdown",
      "metadata": {
        "id": "wpvRloaY93ch"
      },
      "source": [
        "### Variational Algorithms\n",
        "\n",
        "<center>\n",
        "<img src=\"./variational_schematic.png\" alt=\"Variational Schematic\" style=\"width: 65%;\">\n",
        "\n",
        "<img src=\"./vqa_apps.png\" alt=\"VQA Apps\" style=\"width: 65%;\">\n",
        "</center>"
      ]
    },
    {
      "cell_type": "markdown",
      "metadata": {
        "id": "AeuyMD2t93ci"
      },
      "source": [
        "### 2. Variational Algorithms in CUDA Quantum\n"
      ]
    },
    {
      "cell_type": "markdown",
      "metadata": {
        "id": "Q5pSrJC293ci"
      },
      "source": [
        "\n",
        "2.1 Variational algorithms in CUDA Quantum typically leverage the `cudaq.observe(...)` function in tandem with the `cudaq.optimizer`.\n",
        "\n",
        "One can choose an optimization strategy provided as specific sub-types of the `cudaq.optimizer`."
      ]
    },
    {
      "cell_type": "code",
      "execution_count": 59,
      "metadata": {
        "colab": {
          "base_uri": "https://localhost:8080/"
        },
        "id": "IAbxVhNu93cj",
        "outputId": "eb72273c-77fc-4d84-a420-3b1b04ce9453"
      },
      "outputs": [
        {
          "output_type": "stream",
          "name": "stdout",
          "text": [
            "-0.999999761581421 [0.0]\n",
            "5.960464499743523e-08 [1.5707963267948966]\n",
            "-1.9999997019767757 [-1.5707963267948963]\n",
            "-0.9999996125698125 [-3.141592653589793]\n",
            "-0.999999761581421 [2.220446049250313e-16]\n"
          ]
        }
      ],
      "source": [
        "# Import the necessary modules\n",
        "import cudaq\n",
        "from cudaq import spin\n",
        "\n",
        "# Parameterized circuit with theta as the parameter\n",
        "kernel, theta = cudaq.make_kernel(list)\n",
        "qreg = kernel.qalloc(2)\n",
        "kernel.x(qreg[0])\n",
        "kernel.ry(theta[0], qreg[1])\n",
        "\n",
        "\n",
        "# Observable\n",
        "hamiltonian = spin.z(0) + spin.x(1) + spin.y(0)\n",
        "\n",
        "# Initialize the gradient-free optimizer COBYLA\n",
        "optimizer = cudaq.optimizers.COBYLA()\n",
        "\n",
        "# Specify the number of iterations (optional)\n",
        "optimizer.max_iterations = 5\n",
        "\n",
        "def cost_function(x):\n",
        "    # cudaq.observe() produces the expected value of a specified observable wrt a given parameterized ansatz at given params.\n",
        "    # This value is the cost function wrt which we are optimizing.\n",
        "    observeResult = cudaq.observe(kernel, hamiltonian, x)\n",
        "    print (observeResult.expectation(), x)\n",
        "    return observeResult.expectation()\n",
        "\n",
        "# Carry out the optimization\n",
        "opt_value, opt_theta = optimizer.optimize(dimensions=1, function=cost_function)"
      ]
    },
    {
      "cell_type": "markdown",
      "metadata": {
        "id": "Fwgen9jg93ck"
      },
      "source": [
        "#### 2.2 VQE wrapper"
      ]
    },
    {
      "cell_type": "code",
      "execution_count": 60,
      "metadata": {
        "colab": {
          "base_uri": "https://localhost:8080/"
        },
        "id": "Ey9d_2-L93ck",
        "outputId": "62147310-3373-4264-ac7b-de873b2953b4"
      },
      "outputs": [
        {
          "output_type": "stream",
          "name": "stdout",
          "text": [
            "\n",
            "minimized <H> = -1.9999997019767757\n",
            "optimal theta = -1.5707963267948963\n"
          ]
        }
      ],
      "source": [
        "# Import the necessary modules\n",
        "import cudaq\n",
        "from cudaq import spin\n",
        "\n",
        "# Parameterized circuit with theta as the parameter\n",
        "kernel, theta = cudaq.make_kernel(list)\n",
        "qreg = kernel.qalloc(2)\n",
        "kernel.x(qreg[0])\n",
        "kernel.ry(theta[0], qreg[1])\n",
        "\n",
        "# Hamiltonian operator\n",
        "hamiltonian = spin.z(0) + spin.x(1) + spin.y(0)\n",
        "\n",
        "# Initialize the gradient-free optimizer COBYLA\n",
        "optimizer = cudaq.optimizers.COBYLA()\n",
        "\n",
        "# Specify the number of iterations (optional)\n",
        "optimizer.max_iterations = 5\n",
        "\n",
        "# Carry out the optimization\n",
        "opt_value, opt_theta = cudaq.vqe(kernel=kernel,\n",
        "                        spin_operator=hamiltonian,\n",
        "                        optimizer=optimizer,\n",
        "                        parameter_count=1)\n",
        "\n",
        "print(f\"\\nminimized <H> = {round(opt_value,16)}\")\n",
        "print(f\"optimal theta = {round(opt_theta[0],16)}\")"
      ]
    },
    {
      "cell_type": "markdown",
      "metadata": {
        "id": "wepG0McT93cl"
      },
      "source": [
        "### 3. CUDA Quantum `target`\n",
        "A `target` is a specification of the desired platform and simulator / QPU. It can be specified as a runtime flag in Python. Alteratively, it can also be specified within the application code.\n",
        "\n",
        "     Simulation backends\n",
        "    - state-vector (`cuStateVec`)\n",
        "    - tensor-network (`cuTensorNet`)\n",
        "    - density-matrix (`dm`)\n",
        "\n",
        "     Hardware support\n",
        "    - CPU only, multi-threaded   \n",
        "    - Single GPU   \n",
        "    - Multi-GPU\n",
        "    - Multi-QPU\n",
        "    - Multi-node\n",
        "    - QPU"
      ]
    },
    {
      "cell_type": "code",
      "execution_count": 61,
      "metadata": {
        "colab": {
          "base_uri": "https://localhost:8080/"
        },
        "id": "9jrAzOAn93cl",
        "outputId": "848d187b-c77b-4de9-f5d8-8a977ac28ec9"
      },
      "outputs": [
        {
          "output_type": "stream",
          "name": "stdout",
          "text": [
            "Target tensornet-mps\n",
            "\tsimulator=tensornet_mps\n",
            "\tplatform=default\n",
            "\tdescription=\n",
            "\n",
            "Target density-matrix-cpu\n",
            "\tsimulator=dm\n",
            "\tplatform=default\n",
            "\tdescription=The Density Matrix CPU Target provides a simulated QPU via OpenMP-enabled, CPU-only density matrix emulation.\n",
            "\n",
            "Target iqm\n",
            "\tsimulator=qpp\n",
            "\tplatform=default\n",
            "\tdescription=\n",
            "\n",
            "Target orca\n",
            "\tsimulator=qpp\n",
            "\tplatform=default\n",
            "\tdescription=\n",
            "\n",
            "Target nvidia-mgpu\n",
            "\tsimulator=nvidia_mgpu\n",
            "\tplatform=default\n",
            "\tdescription=\n",
            "\n",
            "Target nvidia-fp64\n",
            "\tsimulator=custatevec_fp64\n",
            "\tplatform=default\n",
            "\tdescription=The NVIDIA FP64 Target provides a simulated QPU via single-GPU cuStateVec integration on FP64 types.\n",
            "\n",
            "Target nvidia\n",
            "\tsimulator=custatevec_fp32\n",
            "\tplatform=default\n",
            "\tdescription=The NVIDIA Target provides a simulated QPU via single-GPU cuStateVec integration on FP32 types.\n",
            "\n",
            "Target remote-mqpu\n",
            "\tsimulator=qpp\n",
            "\tplatform=mqpu\n",
            "\tdescription=\n",
            "\n",
            "Target nvidia-mqpu\n",
            "\tsimulator=custatevec_fp32\n",
            "\tplatform=mqpu\n",
            "\tdescription=The NVIDIA MQPU Target provides a simulated QPU for every available CUDA GPU on the underlying system. Each QPU is simulated via cuStateVec FP32. This target enables asynchronous parallel execution of quantum kernel tasks.\n",
            "\n",
            "Target qpp-cpu\n",
            "\tsimulator=qpp\n",
            "\tplatform=default\n",
            "\tdescription=QPP-based CPU-only backend target\n",
            "\n",
            "Target tensornet\n",
            "\tsimulator=tensornet\n",
            "\tplatform=default\n",
            "\tdescription=\n",
            "\n",
            "Target nvidia-mqpu-fp64\n",
            "\tsimulator=custatevec_fp64\n",
            "\tplatform=mqpu\n",
            "\tdescription=The NVIDIA MQPU FP64 Target provides a simulated QPU for every available CUDA GPU on the underlying system. Each QPU is simulated via cuStateVec FP64.\n",
            "\n",
            "Target photonics\n",
            "\tsimulator=qpp\n",
            "\tplatform=default\n",
            "\tdescription=\n",
            "\n",
            "Target quantinuum\n",
            "\tsimulator=qpp\n",
            "\tplatform=default\n",
            "\tdescription=\n",
            "\n",
            "Target oqc\n",
            "\tsimulator=qpp\n",
            "\tplatform=default\n",
            "\tdescription=\n",
            "\n",
            "Target ionq\n",
            "\tsimulator=qpp\n",
            "\tplatform=default\n",
            "\tdescription=\n",
            "\n"
          ]
        }
      ],
      "source": [
        "# Print all the available targets on your machine\n",
        "import cudaq\n",
        "\n",
        "targets = cudaq.get_targets()\n",
        "\n",
        "for t in targets:\n",
        "     print(t)"
      ]
    },
    {
      "cell_type": "markdown",
      "metadata": {
        "id": "2_MWOPrK93cm"
      },
      "source": [
        "#### 3.1 Quantum Hardware Integration"
      ]
    },
    {
      "cell_type": "code",
      "execution_count": null,
      "metadata": {
        "id": "RQOYEgdG93co"
      },
      "outputs": [],
      "source": [
        "# This code will give an error!!!!!\n",
        "import cudaq\n",
        "\n",
        "# Set the target\n",
        "cudaq.set_target(\"quantinuum\")\n",
        "\n",
        "# Create the kernel we'd like to execute on Quantinuum.\n",
        "kernel = cudaq.make_kernel()\n",
        "qubits = kernel.qalloc(2)\n",
        "kernel.h(qubits[0])\n",
        "kernel.cx(qubits[0], qubits[1])\n",
        "kernel.mz(qubits)\n",
        "\n",
        "# Submit to Quantinuum's endpoint and confirm the program is valid.\n",
        "\n",
        "# By using the synchronous `cudaq.sample`, the execution of\n",
        "# any remaining classical code in the file will occur only\n",
        "# after the job has been executed by the Quantinuum service.\n",
        "# We will use the synchronous call to submit to the syntax\n",
        "# checker to confirm the validity of the program.\n",
        "counts = cudaq.sample(kernel)\n",
        "print(counts)\n",
        "assert (len(counts) == 2)\n",
        "assert ('00' in counts)\n",
        "assert ('11' in counts)"
      ]
    },
    {
      "cell_type": "markdown",
      "metadata": {
        "id": "fplIV8HW93co"
      },
      "source": [
        "#### 3.2 Quantum Circuit Simulation\n"
      ]
    },
    {
      "cell_type": "markdown",
      "metadata": {
        "id": "8YPcXvuk93cp"
      },
      "source": [
        "\n",
        "What is quantum circuit simulation?\n",
        "\n",
        "Emulating the behavior of a quantum computer using classical computers.\n",
        "\n",
        "\n",
        "Why is it important?\n",
        "\n",
        "* Developing and bechmarking quantum computing applications and algorithms.\n",
        "* Prototyping, verification, and debugging quantum programs.\n",
        "* Studying the effect of noise.\n",
        "\n",
        "\n"
      ]
    },
    {
      "cell_type": "markdown",
      "metadata": {
        "id": "WCN5cQF793cp"
      },
      "source": [
        "### 3.2.1. Simulator backends - cuQuantum\n",
        "CUDA Quantum's workhorse for quantum circuit simulation. It is a high performance library containing the following two types of simulators.\n",
        "\n",
        "##### Statevector simulator    \n",
        "* State vector simulators serve as the main vehicle for circuit simulations.\n",
        "* They maintain an accurate representation of the quantum state, known as the state vector, throughout the simulation.\n",
        "* Each gate that is applied corresponds to a matrix-vector multiplication.\n",
        "\n",
        "##### Tensornet simulator\n",
        "* The tensor network method is a technique that represents the quantum state of N qubits as a series of tensor contractions.\n",
        "* The main challenge is to compute these tensor contractions efficiently.\n",
        "* It can handle a large number of qubits for short circut depths.\n",
        "\n",
        "Note: To run with the cutensornet target, you will need to pull the CUDA Quantum docker image with the tag latest-hpc."
      ]
    },
    {
      "cell_type": "markdown",
      "metadata": {
        "id": "Dy3OkCFH93cp"
      },
      "source": [
        "#### 3.2.2 Density matrix simulator\n",
        "* Simulates quantum circuits under the influence of noise.\n",
        "* Currently, it calls the QPP library under the hood and has only CPU support.\n",
        "\n",
        "To discuss the density matrix simulator further, we need to introduce a couple of new concepts."
      ]
    },
    {
      "cell_type": "markdown",
      "metadata": {
        "id": "WqyBLyYr93cq"
      },
      "source": [
        "### 4. Noise modeling"
      ]
    },
    {
      "cell_type": "markdown",
      "metadata": {
        "id": "uwL--WR-93cq"
      },
      "source": [
        "#### 4.1 Background\n",
        "\n",
        "Noise refers to the multiple factors that can affect the accuracy of the calculations a quantum computer performs.\n",
        "\n",
        "Common sources of errors in quantum computation.\n",
        "- Quantum gate errors\n",
        "- Measurement errors\n",
        "- Decoherence\n",
        "- Crosstalk\n",
        "\n",
        "(Decoherence refers to the process by which a quantum system loses its quantum coherence, or its ability to exist in a superposition of states due to interaction with the environment.)\n",
        "    \n",
        "**Unitary gates vs Quantum channels**\n",
        "\n",
        "When you model your quantum system as closed and look at transformations the whole system can go through, those are described by unitary evolutions. The evolution of a quantum system that interacts with its environment is described using quantum channels. The isolated quantum systems are an ideal case and practically, the systems have some degree of interaction with their surroundings.\n",
        "\n",
        "**Wavefunction vs Density matrix**\n",
        "\n",
        "The wavefunction or state vector gives a complete description of the quantum state of an isolated quantum system.\n",
        "$|\\psi\\rangle$ --> ket notation for the quantum state represented as a vector. The density matrix representation is a more general representation that is used to describe noisy quantum evolution and decoherence. It can be used to describe the pure states as well as the mixed states, which are a statistical ensemble of the pure states.\n",
        "\n",
        "In the density matrix notation, a pure state is given by\n",
        "\n",
        "\\begin{equation*}\n",
        "\\rho = |\\psi\\rangle |\\psi\\rangle.\n",
        "\\end{equation*}\n",
        "\n",
        "A mixed state is repesentated as\n",
        "    \n",
        "\\begin{equation*}\n",
        "\\rho = \\sum_{j} p_j |\\psi_j\\rangle |\\psi_j\\rangle,\n",
        "\\end{equation*}\n",
        "    where the coefficients $p_j$'s are the probabilities associated with each of the states in the ensemble.\n",
        "\n"
      ]
    },
    {
      "cell_type": "markdown",
      "metadata": {
        "id": "DWPA-9B593cr"
      },
      "source": [
        "##### Kraus Representation"
      ]
    },
    {
      "cell_type": "markdown",
      "metadata": {
        "id": "3TSLgxzN93cr"
      },
      "source": [
        "The different sources of noise that we discussed above can be represnted mathematically using the Kraus operators.\n",
        "    \n",
        "\\begin{equation*}\n",
        "\\rho \\mapsto {\\cal{N}}(\\rho) = \\sum_{j} K_j \\rho K_j^{\\dagger}\n",
        "\\end{equation*}\n",
        "\n",
        "with the condition that\n",
        "    \n",
        "\\begin{equation*}\n",
        "\\sum_{j} K_j K_j^{\\dagger} = \\mathbb{I}.\n",
        "\\end{equation*}"
      ]
    },
    {
      "cell_type": "markdown",
      "metadata": {
        "id": "7A0oC0TO93cr"
      },
      "source": [
        "\n",
        "\n",
        "##### Some single-qubit errors\n",
        "\n",
        "**Bit-flip error**\n",
        "\n",
        "- The state of the qubit is chaged from |0⟩ to |1⟩ or vice-versa\n",
        "- key-operator is Pauli X\n",
        "- Kraus reprenetation\n",
        "\n",
        "\\begin{equation*}\n",
        "    \\rho = (1-p) \\rho + p X\\rho X\n",
        "\\end{equation*}\n",
        "    with p in [0,1].\n",
        "\n",
        "\n",
        "**Phase-flip error**\n",
        "\n",
        "- The relative phase of a qubit is changed, but it's magnitude remains the same\n",
        "- |0⟩ to -|0⟩ and |1⟩ to -|1⟩\n",
        "- key-operator is Pauli Z\n",
        "\n",
        "\\begin{equation*}\n",
        "    \\rho = (1-p) \\rho + p Z\\rho Z\n",
        "\\end{equation*}\n",
        "    with p in [0,1].    \n",
        "\n",
        "**Amplitude damping**\n",
        "\n",
        "- the qubit decayz from |1⟩ to the lower energy state |0⟩\n",
        "    \n",
        "\\begin{equation*}\n",
        "    \\rho = K_1 \\rho K_1^{\\dagger} + K_2 \\rho K_2^{\\dagger},\n",
        "\\end{equation*}\n",
        " where $K_1 = [1,0;0,\\sqrt{1-p}]$, $K_2 = [0,\\sqrt{p};0,0]$ and p is the probability of decay.\n"
      ]
    },
    {
      "cell_type": "markdown",
      "metadata": {
        "id": "trryv0ru93cs"
      },
      "source": [
        "#### 4.2 Noise modeling in CUDA Quantum with density-matrix simulator"
      ]
    },
    {
      "cell_type": "markdown",
      "metadata": {
        "id": "8NBSralU93cs"
      },
      "source": [
        "Bit-flip channel"
      ]
    },
    {
      "cell_type": "code",
      "execution_count": 63,
      "metadata": {
        "colab": {
          "base_uri": "https://localhost:8080/"
        },
        "id": "7bICG0dF93ct",
        "outputId": "4e7f6aab-523a-4c7f-d0c3-6f18b9444038"
      },
      "outputs": [
        {
          "output_type": "stream",
          "name": "stdout",
          "text": [
            "{ 0:1000 }\n",
            "\n",
            "{ 1:1000 }\n",
            "\n"
          ]
        }
      ],
      "source": [
        "import cudaq\n",
        "\n",
        "# Set the target to our density matrix simulator.\n",
        "cudaq.set_target('density-matrix-cpu')\n",
        "\n",
        "# CUDA Quantum supports several different models of noise. In this case,\n",
        "# we will examine the modeling of decoherence of the qubit state. This\n",
        "# will occur from \"bit flip\" errors, wherein the qubit has a user-specified\n",
        "# probability of undergoing an X-180 rotation.\n",
        "\n",
        "# We will begin by defining an empty noise model that we will add\n",
        "# these decoherence channels to.\n",
        "noise = cudaq.NoiseModel()\n",
        "\n",
        "# Bit flip channel with `1.0` probability of the qubit flipping 180 degrees.\n",
        "bit_flip = cudaq.BitFlipChannel(1.0)\n",
        "# We will apply this channel to any X gate on the qubit, giving each X-gate\n",
        "# a probability of `1.0` of undergoing an extra X-gate.\n",
        "noise.add_channel('x', [0], bit_flip)\n",
        "\n",
        "# Now we may define our simple kernel function and allocate a register\n",
        "# of qubits to it.\n",
        "kernel = cudaq.make_kernel()\n",
        "qubit = kernel.qalloc()\n",
        "\n",
        "# Apply an X-gate to the qubit.\n",
        "# It will remain in the |1> state with a probability of `1 - p = 0.0`.\n",
        "kernel.x(qubit)\n",
        "# Measure.\n",
        "kernel.mz(qubit)\n",
        "\n",
        "# Now we're ready to run the noisy simulation of our kernel.\n",
        "# Note: We must pass the noise model to sample via key-word.\n",
        "noisy_result = cudaq.sample(kernel, noise_model=noise)\n",
        "print(noisy_result)\n",
        "\n",
        "# Our results should show all measurements in the |0> state, indicating\n",
        "# that the noise has successfully impacted the system.\n",
        "\n",
        "# To confirm this, we can run the simulation again without noise.\n",
        "# We should now see the qubit in the |1> state.\n",
        "noiseless_result = cudaq.sample(kernel)\n",
        "print(noiseless_result)"
      ]
    },
    {
      "cell_type": "markdown",
      "metadata": {
        "id": "fJOiXvjr93ct"
      },
      "source": [
        " Phase-flip channel\n",
        "   "
      ]
    },
    {
      "cell_type": "code",
      "execution_count": 64,
      "metadata": {
        "id": "6w2Q3dMZ93ct"
      },
      "outputs": [],
      "source": [
        "# Phase flip channel with `1.0` probability of the qubit\n",
        "# undergoing a phase rotation of 180 degrees (π).\n",
        "phase_flip = cudaq.PhaseFlipChannel(1.0)"
      ]
    },
    {
      "cell_type": "markdown",
      "metadata": {
        "id": "PNBGJ-G_93cu"
      },
      "source": [
        "Ampltiude damping channel"
      ]
    },
    {
      "cell_type": "code",
      "execution_count": 65,
      "metadata": {
        "id": "gRYUpH6W93cu"
      },
      "outputs": [],
      "source": [
        "# Amplitude damping channel with `1.0` probability of the qubit\n",
        "# decaying to the ground state.\n",
        "amplitude_damping = cudaq.AmplitudeDampingChannel(1.0)\n",
        "# We will apply this channel to any Hadamard gate on the qubit.\n",
        "# Meaning, after each Hadamard on the qubit, there will be a\n",
        "# probability of `1.0` that the qubit decays back to ground.\n",
        "noise.add_channel('h', [0], amplitude_damping)"
      ]
    },
    {
      "cell_type": "markdown",
      "metadata": {
        "id": "YPd5LAgg93cv"
      },
      "source": [
        " Custom Noise Model\n",
        "\n",
        " Here, we demonstrate a custom noise model with the same Kraus operators as in the ampltiude damping channel, but following the same template we can build other noise models such as the Pauli noise model."
      ]
    },
    {
      "cell_type": "code",
      "execution_count": 66,
      "metadata": {
        "colab": {
          "base_uri": "https://localhost:8080/"
        },
        "id": "sr6EYVo193cv",
        "outputId": "94d47775-89b1-4c2d-ce5e-62cdda425f81"
      },
      "outputs": [
        {
          "output_type": "stream",
          "name": "stdout",
          "text": [
            "{ 0:1000 }\n",
            "\n",
            "{ 0:461 1:539 }\n",
            "\n"
          ]
        }
      ],
      "source": [
        "import cudaq\n",
        "import numpy as np\n",
        "\n",
        "# Set the target to our density matrix simulator.\n",
        "cudaq.set_target('density-matrix-cpu')\n",
        "\n",
        "# CUDA Quantum supports custom noise models through the definition of\n",
        "# `KrausChannel`'s. In this case, we will define a set of `KrausOperator`'s\n",
        "# that  affect the same noise as the `AmplitudeDampingChannel`. This\n",
        "# channel will model the energy dissipation within our system via\n",
        "# environmental interactions. With a variable probability, it will\n",
        "# return the qubit to the |0> state.\n",
        "\n",
        "# We will begin by defining an empty noise model that we will add\n",
        "# our Kraus Channel to.\n",
        "noise = cudaq.NoiseModel()\n",
        "\n",
        "\n",
        "# We will define our Kraus Operators within functions, as to\n",
        "# allow for easy control over the noise probability.\n",
        "def kraus_operators(probability):\n",
        "    \"\"\"See Nielsen, Chuang Chapter 8.3.5 for definition source.\"\"\"\n",
        "    kraus_0 = np.array([[1, 0], [0, np.sqrt(1 - probability)]],\n",
        "                       dtype=np.complex128)\n",
        "    kraus_1 = np.array([[0, 0], [np.sqrt(probability), 0]], dtype=np.complex128)\n",
        "    return [kraus_0, kraus_1]\n",
        "\n",
        "\n",
        "# Manually defined amplitude damping channel with `1.0` probability\n",
        "# of the qubit decaying to the ground state.\n",
        "amplitude_damping = cudaq.KrausChannel(kraus_operators(1.0))\n",
        "# We will apply this channel to any Hadamard gate on the qubit.\n",
        "# Meaning, after each Hadamard on the qubit, there will be a\n",
        "# probability of `1.0` that the qubit decays back to ground.\n",
        "noise.add_channel('h', [0], amplitude_damping)\n",
        "\n",
        "# Now we may define our simple kernel function and allocate a qubit.\n",
        "kernel = cudaq.make_kernel()\n",
        "qubit = kernel.qalloc()\n",
        "\n",
        "# Then we apply a Hadamard gate to the qubit.\n",
        "# This will bring it to `1/sqrt(2) (|0> + |1>)`, where it will remain\n",
        "# with a probability of `1 - p = 0.0`.\n",
        "kernel.h(qubit)\n",
        "\n",
        "# Measure.\n",
        "kernel.mz(qubit)\n",
        "\n",
        "# Now we're ready to run the noisy simulation of our kernel.\n",
        "# Note: We must pass the noise model to sample via key-word.\n",
        "noisy_result = cudaq.sample(kernel, noise_model=noise)\n",
        "print(noisy_result)\n",
        "\n",
        "# Our results should show all measurements in the |0> state, indicating\n",
        "# that the noise has successfully impacted the system.\n",
        "\n",
        "# To confirm this, we can run the simulation again without noise.\n",
        "# The qubit will now have a 50/50 mix of measurements between\n",
        "# |0> and |1>.\n",
        "noiseless_result = cudaq.sample(kernel)\n",
        "print(noiseless_result)"
      ]
    }
  ],
  "metadata": {
    "kernelspec": {
      "display_name": "Python 3",
      "name": "python3"
    },
    "language_info": {
      "codemirror_mode": {
        "name": "ipython",
        "version": 3
      },
      "file_extension": ".py",
      "mimetype": "text/x-python",
      "name": "python",
      "nbconvert_exporter": "python",
      "pygments_lexer": "ipython3",
      "version": "3.10.12"
    },
    "colab": {
      "provenance": [],
      "gpuType": "T4",
      "include_colab_link": true
    },
    "accelerator": "GPU"
  },
  "nbformat": 4,
  "nbformat_minor": 0
}