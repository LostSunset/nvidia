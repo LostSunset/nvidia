{
  "cells": [
    {
      "cell_type": "markdown",
      "metadata": {
        "id": "view-in-github",
        "colab_type": "text"
      },
      "source": [
        "<a href=\"https://colab.research.google.com/github/Squirtle007/CUDA_Quantum/blob/main/colab/cudaq_tutorial_01.ipynb\" target=\"_parent\"><img src=\"https://colab.research.google.com/assets/colab-badge.svg\" alt=\"Open In Colab\"/></a>"
      ]
    },
    {
      "cell_type": "markdown",
      "metadata": {
        "id": "mbYLNLZmwJvX"
      },
      "source": [
        "<style>\n",
        ".custom-font {\n",
        "    font-family: \"Courier New\", serif;\n",
        "    font-size: 18px;\n",
        "}\n",
        "</style>"
      ]
    },
    {
      "cell_type": "markdown",
      "source": [
        "**Set up CUDA Quantum Environment**"
      ],
      "metadata": {
        "id": "n9dHZDT43AZ4"
      }
    },
    {
      "cell_type": "code",
      "source": [
        "#The following commands are used to set up the environment in Colab\n",
        "!wget https://developer.download.nvidia.com/compute/cuda/repos/ubuntu2204/x86_64/cuda-keyring_1.0-1_all.deb\n",
        "!dpkg -i cuda-keyring_1.0-1_all.deb\n",
        "!apt-get update\n",
        "!apt-get -y install libcublas-11-8 libcusolver-11-8 cuda-cudart-11-8\n",
        "\n",
        "%pip install cuda-quantum==0.6.0"
      ],
      "metadata": {
        "colab": {
          "base_uri": "https://localhost:8080/"
        },
        "id": "PKMS4Hq_2X0A",
        "outputId": "4be60bfc-89cd-48da-e71d-3dbe301b8b20"
      },
      "execution_count": 1,
      "outputs": [
        {
          "output_type": "stream",
          "name": "stdout",
          "text": [
            "--2024-04-09 10:10:47--  https://developer.download.nvidia.com/compute/cuda/repos/ubuntu2204/x86_64/cuda-keyring_1.0-1_all.deb\n",
            "Resolving developer.download.nvidia.com (developer.download.nvidia.com)... 152.195.19.142\n",
            "Connecting to developer.download.nvidia.com (developer.download.nvidia.com)|152.195.19.142|:443... connected.\n",
            "HTTP request sent, awaiting response... 200 OK\n",
            "Length: 4332 (4.2K) [application/x-deb]\n",
            "Saving to: ‘cuda-keyring_1.0-1_all.deb’\n",
            "\n",
            "\r          cuda-keyr   0%[                    ]       0  --.-KB/s               \rcuda-keyring_1.0-1_ 100%[===================>]   4.23K  --.-KB/s    in 0s      \n",
            "\n",
            "2024-04-09 10:10:47 (239 MB/s) - ‘cuda-keyring_1.0-1_all.deb’ saved [4332/4332]\n",
            "\n",
            "(Reading database ... 121753 files and directories currently installed.)\n",
            "Preparing to unpack cuda-keyring_1.0-1_all.deb ...\n",
            "Unpacking cuda-keyring (1.0-1) over (1.0-1) ...\n",
            "Setting up cuda-keyring (1.0-1) ...\n",
            "\n",
            "A deprecated public CUDA GPG key appear to be installed.\n",
            "To remove the key, run this command:\n",
            "sudo apt-key del 7fa2af80\n",
            "\n",
            "Get:1 https://developer.download.nvidia.com/compute/cuda/repos/ubuntu2204/x86_64  InRelease [1,581 B]\n",
            "Get:2 https://cloud.r-project.org/bin/linux/ubuntu jammy-cran40/ InRelease [3,626 B]\n",
            "Hit:3 http://archive.ubuntu.com/ubuntu jammy InRelease\n",
            "Get:4 http://security.ubuntu.com/ubuntu jammy-security InRelease [110 kB]\n",
            "Get:5 https://developer.download.nvidia.com/compute/cuda/repos/ubuntu2204/x86_64  Packages [805 kB]\n",
            "Get:6 http://archive.ubuntu.com/ubuntu jammy-updates InRelease [119 kB]\n",
            "Hit:7 https://ppa.launchpadcontent.net/c2d4u.team/c2d4u4.0+/ubuntu jammy InRelease\n",
            "Get:8 https://ppa.launchpadcontent.net/deadsnakes/ppa/ubuntu jammy InRelease [18.1 kB]\n",
            "Hit:9 http://archive.ubuntu.com/ubuntu jammy-backports InRelease\n",
            "Hit:10 https://ppa.launchpadcontent.net/graphics-drivers/ppa/ubuntu jammy InRelease\n",
            "Hit:11 https://ppa.launchpadcontent.net/ubuntugis/ppa/ubuntu jammy InRelease\n",
            "Get:12 http://security.ubuntu.com/ubuntu jammy-security/main amd64 Packages [1,690 kB]\n",
            "Get:13 http://archive.ubuntu.com/ubuntu jammy-updates/main amd64 Packages [1,969 kB]\n",
            "Get:14 https://ppa.launchpadcontent.net/deadsnakes/ppa/ubuntu jammy/main amd64 Packages [27.7 kB]\n",
            "Get:15 http://security.ubuntu.com/ubuntu jammy-security/multiverse amd64 Packages [44.7 kB]\n",
            "Get:16 http://security.ubuntu.com/ubuntu jammy-security/restricted amd64 Packages [2,124 kB]\n",
            "Get:17 http://archive.ubuntu.com/ubuntu jammy-updates/multiverse amd64 Packages [61.3 kB]\n",
            "Get:18 http://archive.ubuntu.com/ubuntu jammy-updates/restricted amd64 Packages [2,166 kB]\n",
            "Get:19 http://archive.ubuntu.com/ubuntu jammy-updates/universe amd64 Packages [1,357 kB]\n",
            "Fetched 10.5 MB in 4s (2,998 kB/s)\n",
            "Reading package lists... Done\n",
            "Reading package lists... Done\n",
            "Building dependency tree... Done\n",
            "Reading state information... Done\n",
            "The following additional packages will be installed:\n",
            "  cuda-toolkit-11-8-config-common cuda-toolkit-11-config-common\n",
            "The following NEW packages will be installed:\n",
            "  cuda-cudart-11-8 cuda-toolkit-11-8-config-common cuda-toolkit-11-config-common libcublas-11-8\n",
            "  libcusolver-11-8\n",
            "0 upgraded, 5 newly installed, 0 to remove and 46 not upgraded.\n",
            "Need to get 300 MB of archives.\n",
            "After this operation, 1,159 MB of additional disk space will be used.\n",
            "Get:1 https://developer.download.nvidia.com/compute/cuda/repos/ubuntu2204/x86_64  cuda-toolkit-11-config-common 11.8.89-1 [16.4 kB]\n",
            "Get:2 https://developer.download.nvidia.com/compute/cuda/repos/ubuntu2204/x86_64  cuda-toolkit-11-8-config-common 11.8.89-1 [16.3 kB]\n",
            "Get:3 https://developer.download.nvidia.com/compute/cuda/repos/ubuntu2204/x86_64  cuda-cudart-11-8 11.8.89-1 [165 kB]\n",
            "Get:4 https://developer.download.nvidia.com/compute/cuda/repos/ubuntu2204/x86_64  libcublas-11-8 11.11.3.6-1 [248 MB]\n",
            "Get:5 https://developer.download.nvidia.com/compute/cuda/repos/ubuntu2204/x86_64  libcusolver-11-8 11.4.1.48-1 [52.3 MB]\n",
            "Fetched 300 MB in 5s (66.6 MB/s)\n",
            "Selecting previously unselected package cuda-toolkit-11-config-common.\n",
            "(Reading database ... 121753 files and directories currently installed.)\n",
            "Preparing to unpack .../cuda-toolkit-11-config-common_11.8.89-1_all.deb ...\n",
            "Unpacking cuda-toolkit-11-config-common (11.8.89-1) ...\n",
            "Selecting previously unselected package cuda-toolkit-11-8-config-common.\n",
            "Preparing to unpack .../cuda-toolkit-11-8-config-common_11.8.89-1_all.deb ...\n",
            "Unpacking cuda-toolkit-11-8-config-common (11.8.89-1) ...\n",
            "Selecting previously unselected package cuda-cudart-11-8.\n",
            "Preparing to unpack .../cuda-cudart-11-8_11.8.89-1_amd64.deb ...\n",
            "Unpacking cuda-cudart-11-8 (11.8.89-1) ...\n",
            "Selecting previously unselected package libcublas-11-8.\n",
            "Preparing to unpack .../libcublas-11-8_11.11.3.6-1_amd64.deb ...\n",
            "Unpacking libcublas-11-8 (11.11.3.6-1) ...\n",
            "Selecting previously unselected package libcusolver-11-8.\n",
            "Preparing to unpack .../libcusolver-11-8_11.4.1.48-1_amd64.deb ...\n",
            "Unpacking libcusolver-11-8 (11.4.1.48-1) ...\n",
            "Setting up cuda-toolkit-11-config-common (11.8.89-1) ...\n",
            "Setting up cuda-toolkit-11-8-config-common (11.8.89-1) ...\n",
            "Setting alternatives\n",
            "update-alternatives: using /usr/local/cuda-11.8 to provide /usr/local/cuda-11 (cuda-11) in auto mode\n",
            "Setting up libcusolver-11-8 (11.4.1.48-1) ...\n",
            "Setting up cuda-cudart-11-8 (11.8.89-1) ...\n",
            "Setting up libcublas-11-8 (11.11.3.6-1) ...\n",
            "Processing triggers for libc-bin (2.35-0ubuntu3.4) ...\n",
            "/sbin/ldconfig.real: /usr/local/lib/libtbbbind_2_5.so.3 is not a symbolic link\n",
            "\n",
            "/sbin/ldconfig.real: /usr/local/lib/libtbbmalloc_proxy.so.2 is not a symbolic link\n",
            "\n",
            "/sbin/ldconfig.real: /usr/local/lib/libtbb.so.12 is not a symbolic link\n",
            "\n",
            "/sbin/ldconfig.real: /usr/local/lib/libtbbbind.so.3 is not a symbolic link\n",
            "\n",
            "/sbin/ldconfig.real: /usr/local/lib/libtbbbind_2_0.so.3 is not a symbolic link\n",
            "\n",
            "/sbin/ldconfig.real: /usr/local/lib/libtbbmalloc.so.2 is not a symbolic link\n",
            "\n",
            "Collecting cuda-quantum==0.6.0\n",
            "  Downloading cuda_quantum-0.6.0-cp310-cp310-manylinux_2_28_x86_64.whl (59.0 MB)\n",
            "\u001b[2K     \u001b[90m━━━━━━━━━━━━━━━━━━━━━━━━━━━━━━━━━━━━━━━━\u001b[0m \u001b[32m59.0/59.0 MB\u001b[0m \u001b[31m15.3 MB/s\u001b[0m eta \u001b[36m0:00:00\u001b[0m\n",
            "\u001b[?25hCollecting cuquantum-cu11~=23.10 (from cuda-quantum==0.6.0)\n",
            "  Downloading cuquantum_cu11-23.10.0-py3-none-manylinux2014_x86_64.whl (7.0 kB)\n",
            "Collecting custatevec-cu11==1.5.0 (from cuquantum-cu11~=23.10->cuda-quantum==0.6.0)\n",
            "  Downloading custatevec_cu11-1.5.0-py3-none-manylinux2014_x86_64.whl (38.9 MB)\n",
            "\u001b[2K     \u001b[90m━━━━━━━━━━━━━━━━━━━━━━━━━━━━━━━━━━━━━━━━\u001b[0m \u001b[32m38.9/38.9 MB\u001b[0m \u001b[31m13.3 MB/s\u001b[0m eta \u001b[36m0:00:00\u001b[0m\n",
            "\u001b[?25hCollecting cutensornet-cu11==2.3.0 (from cuquantum-cu11~=23.10->cuda-quantum==0.6.0)\n",
            "  Downloading cutensornet_cu11-2.3.0-py3-none-manylinux2014_x86_64.whl (2.2 MB)\n",
            "\u001b[2K     \u001b[90m━━━━━━━━━━━━━━━━━━━━━━━━━━━━━━━━━━━━━━━━\u001b[0m \u001b[32m2.2/2.2 MB\u001b[0m \u001b[31m81.5 MB/s\u001b[0m eta \u001b[36m0:00:00\u001b[0m\n",
            "\u001b[?25hCollecting cutensor-cu11<2,>=1.6.1 (from cutensornet-cu11==2.3.0->cuquantum-cu11~=23.10->cuda-quantum==0.6.0)\n",
            "  Downloading cutensor_cu11-1.7.0-py3-none-manylinux2014_x86_64.whl (142.1 MB)\n",
            "\u001b[2K     \u001b[90m━━━━━━━━━━━━━━━━━━━━━━━━━━━━━━━━━━━━━━━━\u001b[0m \u001b[32m142.1/142.1 MB\u001b[0m \u001b[31m7.7 MB/s\u001b[0m eta \u001b[36m0:00:00\u001b[0m\n",
            "\u001b[?25hInstalling collected packages: cutensor-cu11, custatevec-cu11, cutensornet-cu11, cuquantum-cu11, cuda-quantum\n",
            "Successfully installed cuda-quantum-0.6.0 cuquantum-cu11-23.10.0 custatevec-cu11-1.5.0 cutensor-cu11-1.7.0 cutensornet-cu11-2.3.0\n"
          ]
        }
      ]
    },
    {
      "cell_type": "markdown",
      "metadata": {
        "id": "p3L75_rhwJva"
      },
      "source": [
        "# CUDA Quantum 101"
      ]
    },
    {
      "cell_type": "markdown",
      "metadata": {
        "id": "D0uMPt9UwJvb"
      },
      "source": [
        "Important Links\n",
        "\n",
        "* Installation\n",
        "    https://nvidia.github.io/cuda-quantum/latest/install.html\n",
        "* Documentation\n",
        "    https://nvidia.github.io/cuda-quantum/latest/index.html\n",
        "* CUDA Quantum repo\n",
        "    https://github.com/NVIDIA/cuda-quantum\n",
        "\n",
        "\n",
        "**Outline**\n",
        "\n",
        "1. What is CUDA Quantum?\n",
        "2. CUDA Quantum Kernels\n",
        "3. Algorithmic primitives \\\n",
        "    3.1 cudaq.sample() \\\n",
        "    3.2 cudaq.spin_op() \\\n",
        "    3.3 cudaq.observe()\n",
        "4. Parameterized circuits\n",
        "5. Scalability 101"
      ]
    },
    {
      "cell_type": "markdown",
      "metadata": {
        "id": "GpjEBKgQwJvd"
      },
      "source": [
        " ### 1. What is CUDA Quantum?"
      ]
    },
    {
      "cell_type": "markdown",
      "metadata": {
        "id": "Vd-WxQI4wJvd"
      },
      "source": [
        "\n",
        "* An open-source platform for integrating and programming quantum processing units (QPUs), GPUS and CPUs in one system.\n",
        "\n",
        "* Enables dynamic workflow between different system architectures.\n",
        "\n",
        "* A programming model which extends C++ and Python with quantum kernels, enabling high-level programming in familiar languages.\n",
        "\n",
        "* The ability to utilize and seamlessly switch between different quantum technologies, including state-of-the-art simulator backends with NVIDIA cuQuantum and a number of different physical quantum processors (QPUs)."
      ]
    },
    {
      "cell_type": "code",
      "execution_count": 24,
      "metadata": {
        "id": "64xvBh7owJvf"
      },
      "outputs": [],
      "source": [
        "# Import the CUDA Quantum module\n",
        "import cudaq"
      ]
    },
    {
      "cell_type": "markdown",
      "metadata": {
        "id": "oF5pvLBxwJvh"
      },
      "source": [
        "### 2. CUDA Quantum Kernel"
      ]
    },
    {
      "cell_type": "markdown",
      "metadata": {
        "id": "MjJo8zdGwJvi"
      },
      "source": [
        "A common pattern in the design and implementation of accelerated-node programming models is the separation of accelerator-device code from existing CPU host code via function-level boundaries. This provides a clear delineation between what must be compiled for, and executed on, an available computational accelerator. The annotation of device code is common to aid programming model implementations in device code discovery, compilation, and runtime-library configuration and setup.CUDA Quantum follows a similar pattern.\n",
        "\n"
      ]
    },
    {
      "cell_type": "code",
      "execution_count": 25,
      "metadata": {
        "id": "00URBcZQwJvj"
      },
      "outputs": [],
      "source": [
        "# We begin by defining the `Kernel` that we will construct our\n",
        "# program with.\n",
        "kernel = cudaq.make_kernel()"
      ]
    },
    {
      "cell_type": "code",
      "execution_count": 26,
      "metadata": {
        "id": "XG6hz6L6wJvk"
      },
      "outputs": [],
      "source": [
        "# Next, we can allocate qubits to the kernel via `qalloc(qubit_count)`.\n",
        "# An empty call to `qalloc` will return a single qubit.\n",
        "qubit = kernel.qalloc()"
      ]
    },
    {
      "cell_type": "code",
      "execution_count": 27,
      "metadata": {
        "id": "KULrTlhBwJvl"
      },
      "outputs": [],
      "source": [
        "# Now we can begin adding instructions to apply to this qubit!\n",
        "# Here we'll just add every non-parameterized\n",
        "# single qubit gates that are supported by CUDA Quantum.\n",
        "kernel.h(qubit)\n",
        "kernel.x(qubit)\n",
        "kernel.y(qubit)\n",
        "kernel.z(qubit)\n",
        "kernel.t(qubit)\n",
        "kernel.s(qubit)"
      ]
    },
    {
      "cell_type": "code",
      "execution_count": 28,
      "metadata": {
        "colab": {
          "base_uri": "https://localhost:8080/"
        },
        "id": "tfKkBJXhwJvm",
        "outputId": "3fb86831-1f17-480e-e08b-10bf5d9a8790"
      },
      "outputs": [
        {
          "output_type": "execute_result",
          "data": {
            "text/plain": [
              "<cudaq._pycudaq.QuakeValue at 0x78941034ac30>"
            ]
          },
          "metadata": {},
          "execution_count": 28
        }
      ],
      "source": [
        "# Next, we add a measurement to the kernel so that we can sample\n",
        "# the measurement results on our simulator!\n",
        "kernel.mz(qubit)"
      ]
    },
    {
      "cell_type": "code",
      "execution_count": 29,
      "metadata": {
        "id": "3Zk3817BwJvn"
      },
      "outputs": [],
      "source": [
        "# Other methods and attributes available to the kernel object\n",
        "#dir(kernel)\n",
        "#help(kernel.tdg)"
      ]
    },
    {
      "cell_type": "markdown",
      "metadata": {
        "id": "Reugo9m7wJvo"
      },
      "source": [
        "###     3. Algorithmic primitives"
      ]
    },
    {
      "cell_type": "markdown",
      "metadata": {
        "id": "a7V002JEwJvo"
      },
      "source": [
        "Algorithmic primitives are common programming patterns that have been implemented in the CUDA Quantum library.\n",
        "\n",
        "3.1 cudaq.sample() \\\n",
        "3.2 cudaq.observe() \\\n",
        "3.3 cudaq.spin_op()"
      ]
    },
    {
      "cell_type": "markdown",
      "metadata": {
        "id": "SrYFyPumwJvp"
      },
      "source": [
        "#### 3.1. cudaq.sample()"
      ]
    },
    {
      "cell_type": "markdown",
      "metadata": {
        "id": "dWwGB_qQwJvp"
      },
      "source": [
        "\n",
        "The sample() function performs multiple measurements of the circuit(1000 shots by default) and returns a dictionary of the measurement outcomes along with their respective counts.\n"
      ]
    },
    {
      "cell_type": "code",
      "execution_count": 30,
      "metadata": {
        "colab": {
          "base_uri": "https://localhost:8080/"
        },
        "id": "x97IqUEIwJvq",
        "outputId": "09eb031c-35b8-46ef-f33a-ffc18e349c8c"
      },
      "outputs": [
        {
          "output_type": "stream",
          "name": "stdout",
          "text": [
            "{ 0:477 1:523 }\n",
            "\n"
          ]
        }
      ],
      "source": [
        "# Finally, we can execute this kernel on the state vector simulator\n",
        "# by calling `cudaq.sample`. This will execute the provided kernel\n",
        "# `shots_count` number of times and return the sampled distribution\n",
        "# as a `cudaq.SampleResult` dictionary.\n",
        "sample_result = cudaq.sample(kernel)\n",
        "\n",
        "# Now let's take a look at the `SampleResult` we've gotten back!\n",
        "print(sample_result)  # or result.dump()"
      ]
    },
    {
      "cell_type": "markdown",
      "metadata": {
        "id": "yXme__6uwJvq"
      },
      "source": [
        "Putting it all together!"
      ]
    },
    {
      "cell_type": "code",
      "execution_count": 31,
      "metadata": {
        "colab": {
          "base_uri": "https://localhost:8080/"
        },
        "id": "BGISQlS-wJvr",
        "outputId": "cc5895ee-44d3-4051-b086-043bef1fe685"
      },
      "outputs": [
        {
          "output_type": "stream",
          "name": "stdout",
          "text": [
            "{ 00:481 10:523 01:514 11:482 }\n",
            "\n"
          ]
        }
      ],
      "source": [
        "import cudaq\n",
        "\n",
        "kernel = cudaq.make_kernel()\n",
        "qubit = kernel.qalloc(2)\n",
        "\n",
        "kernel.h(qubit)\n",
        "kernel.x(qubit)\n",
        "kernel.y(qubit)\n",
        "kernel.z(qubit)\n",
        "kernel.t(qubit)\n",
        "kernel.s(qubit)\n",
        "\n",
        "kernel.mz(qubit)\n",
        "\n",
        "# 1000 is the default\n",
        "sample_result = cudaq.sample(kernel, shots_count=2000)\n",
        "\n",
        "print(sample_result)  # or sample_result.dump()"
      ]
    },
    {
      "cell_type": "code",
      "execution_count": 32,
      "metadata": {
        "id": "bs2-S11kwJvr"
      },
      "outputs": [],
      "source": [
        "# Other methods and attributes available to the kernel object\n",
        "#dir(sample_result)\n",
        "#help(sample_result.values)"
      ]
    },
    {
      "cell_type": "code",
      "execution_count": 33,
      "metadata": {
        "colab": {
          "base_uri": "https://localhost:8080/"
        },
        "id": "Fq0McQb0wJvs",
        "outputId": "6481c834-a93e-46a0-e9a2-1676da1863be"
      },
      "outputs": [
        {
          "output_type": "stream",
          "name": "stdout",
          "text": [
            "most probable = 10\n",
            "expectation_value = -0.03700000000000003\n",
            "count = 514\n",
            "probability = 0.257\n"
          ]
        }
      ],
      "source": [
        "# Extracting data from sample\n",
        "\n",
        "print(f\"most probable = {sample_result.most_probable()}\")\n",
        "print(f\"expectation_value = {sample_result.expectation()}\")\n",
        "print(f\"count = {sample_result.count('01')}\")\n",
        "print(f\"probability = {sample_result.probability('01')}\")\n"
      ]
    },
    {
      "cell_type": "code",
      "execution_count": 34,
      "metadata": {
        "id": "d1k_J9-YwJvs"
      },
      "outputs": [],
      "source": [
        "# clear results, result should now be empty\n",
        "sample_result.clear()"
      ]
    },
    {
      "cell_type": "markdown",
      "metadata": {
        "id": "u5H9hleHwJvt"
      },
      "source": [
        "####  3.2. cudaq.spin_op()"
      ]
    },
    {
      "cell_type": "markdown",
      "metadata": {
        "id": "qGUpRfQkwJvt"
      },
      "source": [
        "\n",
        "The spin_op represents a general sum of Pauli tensor products. It exposes the typical algebraic operations that allow programmers to define primitive Pauli operators and use them to compose larger, more complex Pauli tensor products and sums thereof.\n",
        "\n",
        "Let's say our Hamitonian is $Z_0 \\otimes I_1 + I_0 \\otimes X_1 + Y_0 \\otimes I_1 + Y_0 \\otimes Y_1$."
      ]
    },
    {
      "cell_type": "code",
      "execution_count": 35,
      "metadata": {
        "id": "A-FEbFs5wJvt"
      },
      "outputs": [],
      "source": [
        "# Importing the spin_op\n",
        "from cudaq import spin\n",
        "\n",
        "# the obseravle\n",
        "hamiltonian = spin.z(0) + spin.x(1) + spin.y(0) + spin.y(0)*spin.y(1)\n",
        "#hamiltonian.dump()"
      ]
    },
    {
      "cell_type": "code",
      "execution_count": 36,
      "metadata": {
        "id": "3x7PQ58_wJvt"
      },
      "outputs": [],
      "source": [
        "#dir(hamiltonian)\n",
        "#help(hamiltonian.dump)"
      ]
    },
    {
      "cell_type": "markdown",
      "metadata": {
        "id": "66B-oqjxwJvu"
      },
      "source": [
        "#### 3.3. cudaq.observe()"
      ]
    },
    {
      "cell_type": "markdown",
      "metadata": {
        "id": "AToYxgBBwJvu"
      },
      "source": [
        "\n",
        "Compute the expected value of the observable."
      ]
    },
    {
      "cell_type": "code",
      "execution_count": 37,
      "metadata": {
        "id": "yJcTJbtswJvu"
      },
      "outputs": [],
      "source": [
        "# First we need to construct a cuda quantum kernel\n",
        "kernel = cudaq.make_kernel()\n",
        "qreg = kernel.qalloc(2)\n",
        "kernel.x(qreg[0])"
      ]
    },
    {
      "cell_type": "code",
      "execution_count": 38,
      "metadata": {
        "id": "Mg0nKSdjwJvv"
      },
      "outputs": [],
      "source": [
        "# The cudaq.observe() takes the quantum circuit and the observable as input params\n",
        "observe_result = cudaq.observe(kernel, hamiltonian, shots_count=1000)"
      ]
    },
    {
      "cell_type": "code",
      "execution_count": 39,
      "metadata": {
        "colab": {
          "base_uri": "https://localhost:8080/"
        },
        "id": "FOyG2AplwJvv",
        "outputId": "b5d8d108-14bd-4791-a987-6a875c0a76b6"
      },
      "outputs": [
        {
          "output_type": "execute_result",
          "data": {
            "text/plain": [
              "-0.988"
            ]
          },
          "metadata": {},
          "execution_count": 39
        }
      ],
      "source": [
        "#print(observe_result.dump())\n",
        "observe_result.expectation()"
      ]
    },
    {
      "cell_type": "code",
      "execution_count": 40,
      "metadata": {
        "id": "VG8Z2KGowJvw"
      },
      "outputs": [],
      "source": [
        "# For a complete list of attributes\n",
        "# dir (observe_result)"
      ]
    },
    {
      "cell_type": "markdown",
      "metadata": {
        "id": "XnklL_8gwJvw"
      },
      "source": [
        "    Putting it all together!"
      ]
    },
    {
      "cell_type": "code",
      "execution_count": 41,
      "metadata": {
        "colab": {
          "base_uri": "https://localhost:8080/"
        },
        "id": "tNrdd5i2wJvw",
        "outputId": "0ac691b6-d392-4ee3-a48a-9fa5ad037d0e"
      },
      "outputs": [
        {
          "output_type": "execute_result",
          "data": {
            "text/plain": [
              "-0.9581999999999999"
            ]
          },
          "metadata": {},
          "execution_count": 41
        }
      ],
      "source": [
        "import cudaq\n",
        "from cudaq import spin\n",
        "\n",
        "# First we need to construct a cuda quantum kernel\n",
        "kernel = cudaq.make_kernel()\n",
        "qreg = kernel.qalloc(2)\n",
        "kernel.x(qreg[0])\n",
        "\n",
        "# The cudaq.observe() takes the quantum circuit and the observable as input params\n",
        "observe_result = cudaq.observe(kernel, hamiltonian, shots_count=10000)\n",
        "\n",
        "#print(observe_result.dump())\n",
        "observe_result.expectation()"
      ]
    },
    {
      "cell_type": "markdown",
      "metadata": {
        "id": "xNPAqJLkwJvx"
      },
      "source": [
        "### 4. Parameterized circuits"
      ]
    },
    {
      "cell_type": "code",
      "execution_count": 42,
      "metadata": {
        "colab": {
          "base_uri": "https://localhost:8080/"
        },
        "id": "P-NhqKpWwJvy",
        "outputId": "b78b2486-b21e-44a2-cd35-ae534ccf79a8"
      },
      "outputs": [
        {
          "output_type": "execute_result",
          "data": {
            "text/plain": [
              "-1.7487943680728968"
            ]
          },
          "metadata": {},
          "execution_count": 42
        }
      ],
      "source": [
        "import cudaq\n",
        "from cudaq import spin\n",
        "\n",
        "# the obserable\n",
        "hamiltonian = 5.907 - 2.1433 * spin.x(0) * spin.x(1) \\\n",
        "            - 2.1433 * spin.y(0) * spin.y(1) + 0.21829 * spin.z(0) \\\n",
        "            - 6.125 * spin.z(1)\n",
        "\n",
        "# parameterized cudaq kernel, the parameter is of type float\n",
        "kernel, theta = cudaq.make_kernel(float)\n",
        "q = kernel.qalloc(2)\n",
        "kernel.x(q[0])\n",
        "kernel.ry(theta, q[1])\n",
        "kernel.cx(q[1], q[0])\n",
        "\n",
        "# observe() takes the kernel, the observable and the kernel paramter(s)\n",
        "# as args\n",
        "observe_result = cudaq.observe(kernel, hamiltonian, .59)\n",
        "#print(observe_result.dump())\n",
        "observe_result.expectation()"
      ]
    },
    {
      "cell_type": "markdown",
      "metadata": {
        "id": "WY_C27u9wJvy"
      },
      "source": [
        "### 5. Power of GPU acceleration 101"
      ]
    },
    {
      "cell_type": "markdown",
      "metadata": {
        "id": "tsTWghFnwJvy"
      },
      "source": [
        "Make sure that that your Docker container was launched with the `--gpus all` flag turned on."
      ]
    },
    {
      "cell_type": "markdown",
      "metadata": {
        "id": "BgVDsjIywJv0"
      },
      "source": [
        "Bell State\n",
        "$\\dfrac{1}{\\sqrt{2}}(|00\\rangle +|11\\rangle)$, maximally entangled 2-qubit state.\n",
        "\n",
        "GHZ state\n",
        "$\\dfrac{1}{\\sqrt{2}}(|0\\rangle^{\\otimes N} +|1\\rangle^{\\otimes N})$, maximally entangled N-qubit state, $N \\ge 3$."
      ]
    },
    {
      "cell_type": "markdown",
      "source": [
        "<img src=\"data:image/png;base64,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\"\n",
        "     align=\"left\"\n",
        "     width=\"600\" />"
      ],
      "metadata": {
        "id": "y3aV9u9e4ZRo"
      }
    },
    {
      "cell_type": "code",
      "execution_count": 43,
      "metadata": {
        "colab": {
          "base_uri": "https://localhost:8080/"
        },
        "id": "sEzJh5mwwJv1",
        "outputId": "03b77d01-f756-4679-e2a5-905764ebb871"
      },
      "outputs": [
        {
          "output_type": "stream",
          "name": "stdout",
          "text": [
            "Preparing GHZ state for 25 qubits.\n",
            "The execution time: 0.10102319717407227\n",
            "{ 0000000000000000000000000:509 1111111111111111111111111:491 }\n",
            "\n"
          ]
        }
      ],
      "source": [
        "# To run with available gpu using a command line flag:\n",
        "# python3 ghz_state.py --target nvidia\n",
        "# To run with cpu (very slow) using a command line flag:\n",
        "# python3 ghz_state.py\n",
        "\n",
        "\n",
        "import cudaq\n",
        "\n",
        "cudaq.set_target(\"nvidia\") # change target to \"qpp-cpu\" for cpu\n",
        "\n",
        "def ghz_state(N):\n",
        "\n",
        "    kernel = cudaq.make_kernel()\n",
        "    q = kernel.qalloc(N)\n",
        "\n",
        "    kernel.h(q[0])\n",
        "    for i in range(N - 1):\n",
        "      kernel.cx(q[i], q[i + 1])\n",
        "\n",
        "    kernel.mz(q)\n",
        "    return kernel\n",
        "\n",
        "n = 25\n",
        "print(\"Preparing GHZ state for\", n, \"qubits.\")\n",
        "kernel = ghz_state(n)\n",
        "\n",
        "import time\n",
        "t0 = time.time()\n",
        "counts = cudaq.sample(kernel)\n",
        "print(\"The execution time:\", time.time()-t0)\n",
        "\n",
        "print(counts)"
      ]
    }
  ],
  "metadata": {
    "kernelspec": {
      "display_name": "Python 3",
      "name": "python3"
    },
    "language_info": {
      "codemirror_mode": {
        "name": "ipython",
        "version": 3
      },
      "file_extension": ".py",
      "mimetype": "text/x-python",
      "name": "python",
      "nbconvert_exporter": "python",
      "pygments_lexer": "ipython3",
      "version": "3.10.12"
    },
    "colab": {
      "provenance": [],
      "gpuType": "T4",
      "include_colab_link": true
    },
    "accelerator": "GPU"
  },
  "nbformat": 4,
  "nbformat_minor": 0
}