{
 "cells": [
  {
   "cell_type": "markdown",
   "metadata": {
    "colab_type": "text",
    "id": "view-in-github"
   },
   "source": [
    "<a href=\"https://colab.research.google.com/github/Squirtle007/CUDA_Quantum/blob/main/pennylane_cudaq.ipynb\" target=\"_parent\"><img src=\"https://colab.research.google.com/assets/colab-badge.svg\" alt=\"Open In Colab\"/></a>"
   ]
  },
  {
   "cell_type": "markdown",
   "metadata": {
    "id": "KSTCEbhoTr3r"
   },
   "source": [
    "Set up NVIDIA CUDA toolkit and intall all necessary libraries/packages including [**CUDA Quantum**](https://developer.nvidia.com/cuda-quantum)"
   ]
  },
  {
   "cell_type": "code",
   "execution_count": 2,
   "metadata": {
    "colab": {
     "base_uri": "https://localhost:8080/"
    },
    "id": "vHnRoPVED_xZ",
    "outputId": "a8e2f2cf-058a-41fa-f99d-ee266606566f"
   },
   "outputs": [
    {
     "name": "stdout",
     "output_type": "stream",
     "text": [
      "Collecting cuda-quantum==0.6.0\n",
      "  Downloading cuda_quantum-0.6.0-cp310-cp310-manylinux_2_28_x86_64.whl.metadata (7.1 kB)\n",
      "Collecting cuquantum-cu11~=23.10 (from cuda-quantum==0.6.0)\n",
      "  Downloading cuquantum_cu11-23.10.0-py3-none-manylinux2014_x86_64.whl.metadata (2.7 kB)\n",
      "Collecting custatevec-cu11==1.5.0 (from cuquantum-cu11~=23.10->cuda-quantum==0.6.0)\n",
      "  Downloading custatevec_cu11-1.5.0-py3-none-manylinux2014_x86_64.whl.metadata (2.1 kB)\n",
      "Collecting cutensornet-cu11==2.3.0 (from cuquantum-cu11~=23.10->cuda-quantum==0.6.0)\n",
      "  Downloading cutensornet_cu11-2.3.0-py3-none-manylinux2014_x86_64.whl.metadata (2.0 kB)\n",
      "Collecting cutensor-cu11<2,>=1.6.1 (from cutensornet-cu11==2.3.0->cuquantum-cu11~=23.10->cuda-quantum==0.6.0)\n",
      "  Downloading cutensor_cu11-1.7.0-py3-none-manylinux2014_x86_64.whl.metadata (1.9 kB)\n",
      "Downloading cuda_quantum-0.6.0-cp310-cp310-manylinux_2_28_x86_64.whl (59.0 MB)\n",
      "\u001b[2K   \u001b[90m━━━━━━━━━━━━━━━━━━━━━━━━━━━━━━━━━━━━━━━━\u001b[0m \u001b[32m59.0/59.0 MB\u001b[0m \u001b[31m663.9 kB/s\u001b[0m eta \u001b[36m0:00:00\u001b[0m00:01\u001b[0m00:02\u001b[0m\n",
      "\u001b[?25hDownloading cuquantum_cu11-23.10.0-py3-none-manylinux2014_x86_64.whl (7.0 kB)\n",
      "Downloading custatevec_cu11-1.5.0-py3-none-manylinux2014_x86_64.whl (38.9 MB)\n",
      "\u001b[2K   \u001b[90m━━━━━━━━━━━━━━━━━━━━━━━━━━━━━━━━━━━━━━━━\u001b[0m \u001b[32m38.9/38.9 MB\u001b[0m \u001b[31m4.9 MB/s\u001b[0m eta \u001b[36m0:00:00\u001b[0m00:01\u001b[0m00:01\u001b[0m0m\n",
      "\u001b[?25hDownloading cutensornet_cu11-2.3.0-py3-none-manylinux2014_x86_64.whl (2.2 MB)\n",
      "\u001b[2K   \u001b[90m━━━━━━━━━━━━━━━━━━━━━━━━━━━━━━━━━━━━━━━━\u001b[0m \u001b[32m2.2/2.2 MB\u001b[0m \u001b[31m11.2 MB/s\u001b[0m eta \u001b[36m0:00:00\u001b[0ma \u001b[36m0:00:01\u001b[0m\n",
      "\u001b[?25hDownloading cutensor_cu11-1.7.0-py3-none-manylinux2014_x86_64.whl (142.1 MB)\n",
      "\u001b[2K   \u001b[90m━━━━━━━━━━━━━━━━━━━━━━━━━━━━━━━━━━━━━━━\u001b[0m \u001b[32m142.1/142.1 MB\u001b[0m \u001b[31m856.9 kB/s\u001b[0m eta \u001b[36m0:00:00\u001b[0m00:01\u001b[0m0:04\u001b[0mm\n",
      "\u001b[?25hInstalling collected packages: cutensor-cu11, custatevec-cu11, cutensornet-cu11, cuquantum-cu11, cuda-quantum\n",
      "Successfully installed cuda-quantum-0.6.0 cuquantum-cu11-23.10.0 custatevec-cu11-1.5.0 cutensor-cu11-1.7.0 cutensornet-cu11-2.3.0\n",
      "Note: you may need to restart the kernel to use updated packages.\n",
      "Collecting pennylane==0.35.1\n",
      "  Downloading PennyLane-0.35.1-py3-none-any.whl.metadata (9.1 kB)\n",
      "Requirement already satisfied: numpy in /usr/local/lib/python3.10/dist-packages (from pennylane==0.35.1) (1.26.3)\n",
      "Requirement already satisfied: scipy in /home/u8283469/.local/lib/python3.10/site-packages (from pennylane==0.35.1) (1.12.0)\n",
      "Requirement already satisfied: networkx in /home/u8283469/.local/lib/python3.10/site-packages (from pennylane==0.35.1) (3.2.1)\n",
      "Collecting rustworkx (from pennylane==0.35.1)\n",
      "  Downloading rustworkx-0.14.2-cp310-cp310-manylinux_2_17_x86_64.manylinux2014_x86_64.whl.metadata (10.0 kB)\n",
      "Collecting autograd (from pennylane==0.35.1)\n",
      "  Downloading autograd-1.6.2-py3-none-any.whl.metadata (706 bytes)\n",
      "Collecting toml (from pennylane==0.35.1)\n",
      "  Downloading toml-0.10.2-py2.py3-none-any.whl.metadata (7.1 kB)\n",
      "Collecting appdirs (from pennylane==0.35.1)\n",
      "  Downloading appdirs-1.4.4-py2.py3-none-any.whl.metadata (9.0 kB)\n",
      "Collecting semantic-version>=2.7 (from pennylane==0.35.1)\n",
      "  Downloading semantic_version-2.10.0-py2.py3-none-any.whl.metadata (9.7 kB)\n",
      "Collecting autoray>=0.6.1 (from pennylane==0.35.1)\n",
      "  Downloading autoray-0.6.9-py3-none-any.whl.metadata (5.7 kB)\n",
      "Collecting cachetools (from pennylane==0.35.1)\n",
      "  Downloading cachetools-5.3.3-py3-none-any.whl.metadata (5.3 kB)\n",
      "Collecting pennylane-lightning>=0.35 (from pennylane==0.35.1)\n",
      "  Downloading PennyLane_Lightning-0.35.1-cp310-cp310-manylinux_2_17_x86_64.manylinux2014_x86_64.whl.metadata (22 kB)\n",
      "Requirement already satisfied: requests in /usr/local/lib/python3.10/dist-packages (from pennylane==0.35.1) (2.31.0)\n",
      "Requirement already satisfied: typing-extensions in /usr/local/lib/python3.10/dist-packages (from pennylane==0.35.1) (4.9.0)\n",
      "Collecting future>=0.15.2 (from autograd->pennylane==0.35.1)\n",
      "  Downloading future-1.0.0-py3-none-any.whl.metadata (4.0 kB)\n",
      "Requirement already satisfied: charset-normalizer<4,>=2 in /usr/local/lib/python3.10/dist-packages (from requests->pennylane==0.35.1) (3.3.2)\n",
      "Requirement already satisfied: idna<4,>=2.5 in /usr/local/lib/python3.10/dist-packages (from requests->pennylane==0.35.1) (3.6)\n",
      "Requirement already satisfied: urllib3<3,>=1.21.1 in /usr/local/lib/python3.10/dist-packages (from requests->pennylane==0.35.1) (2.1.0)\n",
      "Requirement already satisfied: certifi>=2017.4.17 in /usr/local/lib/python3.10/dist-packages (from requests->pennylane==0.35.1) (2023.11.17)\n",
      "Downloading PennyLane-0.35.1-py3-none-any.whl (1.6 MB)\n",
      "\u001b[2K   \u001b[90m━━━━━━━━━━━━━━━━━━━━━━━━━━━━━━━━━━━━━━━━\u001b[0m \u001b[32m1.6/1.6 MB\u001b[0m \u001b[31m1.5 MB/s\u001b[0m eta \u001b[36m0:00:00\u001b[0m00:01\u001b[0m00:01\u001b[0m\n",
      "\u001b[?25hDownloading autoray-0.6.9-py3-none-any.whl (49 kB)\n",
      "\u001b[2K   \u001b[90m━━━━━━━━━━━━━━━━━━━━━━━━━━━━━━━━━━━━━━━━\u001b[0m \u001b[32m49.8/49.8 kB\u001b[0m \u001b[31m1.2 MB/s\u001b[0m eta \u001b[36m0:00:00\u001b[0ma \u001b[36m0:00:01\u001b[0m\n",
      "\u001b[?25hDownloading PennyLane_Lightning-0.35.1-cp310-cp310-manylinux_2_17_x86_64.manylinux2014_x86_64.whl (18.5 MB)\n",
      "\u001b[2K   \u001b[90m━━━━━━━━━━━━━━━━━━━━━━━━━━━━━━━━━━━━━━━━\u001b[0m \u001b[32m18.5/18.5 MB\u001b[0m \u001b[31m2.3 MB/s\u001b[0m eta \u001b[36m0:00:00\u001b[0m00:01\u001b[0m00:01\u001b[0m\n",
      "\u001b[?25hDownloading semantic_version-2.10.0-py2.py3-none-any.whl (15 kB)\n",
      "Downloading appdirs-1.4.4-py2.py3-none-any.whl (9.6 kB)\n",
      "Downloading autograd-1.6.2-py3-none-any.whl (49 kB)\n",
      "\u001b[2K   \u001b[90m━━━━━━━━━━━━━━━━━━━━━━━━━━━━━━━━━━━━━━━━\u001b[0m \u001b[32m49.3/49.3 kB\u001b[0m \u001b[31m2.8 MB/s\u001b[0m eta \u001b[36m0:00:00\u001b[0m\n",
      "\u001b[?25hDownloading cachetools-5.3.3-py3-none-any.whl (9.3 kB)\n",
      "Downloading rustworkx-0.14.2-cp310-cp310-manylinux_2_17_x86_64.manylinux2014_x86_64.whl (2.1 MB)\n",
      "\u001b[2K   \u001b[90m━━━━━━━━━━━━━━━━━━━━━━━━━━━━━━━━━━━━━━━━\u001b[0m \u001b[32m2.1/2.1 MB\u001b[0m \u001b[31m3.9 MB/s\u001b[0m eta \u001b[36m0:00:00\u001b[0m00:01\u001b[0m00:01\u001b[0m\n",
      "\u001b[?25hDownloading toml-0.10.2-py2.py3-none-any.whl (16 kB)\n",
      "Downloading future-1.0.0-py3-none-any.whl (491 kB)\n",
      "\u001b[2K   \u001b[90m━━━━━━━━━━━━━━━━━━━━━━━━━━━━━━━━━━━━━━━━\u001b[0m \u001b[32m491.3/491.3 kB\u001b[0m \u001b[31m3.8 MB/s\u001b[0m eta \u001b[36m0:00:00\u001b[0ma \u001b[36m0:00:01\u001b[0m\n",
      "\u001b[?25hInstalling collected packages: appdirs, toml, semantic-version, rustworkx, future, cachetools, autoray, autograd, pennylane-lightning, pennylane\n",
      "Successfully installed appdirs-1.4.4 autograd-1.6.2 autoray-0.6.9 cachetools-5.3.3 future-1.0.0 pennylane-0.35.1 pennylane-lightning-0.35.1 rustworkx-0.14.2 semantic-version-2.10.0 toml-0.10.2\n",
      "Note: you may need to restart the kernel to use updated packages.\n",
      "Collecting pennylane-catalyst==0.5.0\n",
      "  Downloading PennyLane_Catalyst-0.5.0-cp310-cp310-manylinux2014_x86_64.whl.metadata (9.7 kB)\n",
      "Requirement already satisfied: pennylane>=0.35 in /home/u8283469/.local/lib/python3.10/site-packages (from pennylane-catalyst==0.5.0) (0.35.1)\n",
      "Requirement already satisfied: pennylane-lightning>=0.35 in /home/u8283469/.local/lib/python3.10/site-packages (from pennylane-catalyst==0.5.0) (0.35.1)\n",
      "Collecting jax==0.4.23 (from pennylane-catalyst==0.5.0)\n",
      "  Downloading jax-0.4.23-py3-none-any.whl.metadata (24 kB)\n",
      "Collecting jaxlib==0.4.23 (from pennylane-catalyst==0.5.0)\n",
      "  Downloading jaxlib-0.4.23-cp310-cp310-manylinux2014_x86_64.whl.metadata (2.1 kB)\n",
      "Requirement already satisfied: scipy in /home/u8283469/.local/lib/python3.10/site-packages (from pennylane-catalyst==0.5.0) (1.12.0)\n",
      "Collecting diastatic-malt>=2.15.1 (from pennylane-catalyst==0.5.0)\n",
      "  Downloading diastatic_malt-2.15.1-py3-none-any.whl.metadata (2.6 kB)\n",
      "Collecting tomlkit (from pennylane-catalyst==0.5.0)\n",
      "  Downloading tomlkit-0.12.4-py3-none-any.whl.metadata (2.7 kB)\n",
      "Collecting ml-dtypes>=0.2.0 (from jax==0.4.23->pennylane-catalyst==0.5.0)\n",
      "  Downloading ml_dtypes-0.3.2-cp310-cp310-manylinux_2_17_x86_64.manylinux2014_x86_64.whl.metadata (20 kB)\n",
      "Requirement already satisfied: numpy>=1.22 in /usr/local/lib/python3.10/dist-packages (from jax==0.4.23->pennylane-catalyst==0.5.0) (1.26.3)\n",
      "Collecting opt-einsum (from jax==0.4.23->pennylane-catalyst==0.5.0)\n",
      "  Downloading opt_einsum-3.3.0-py3-none-any.whl.metadata (6.5 kB)\n",
      "Collecting astunparse (from diastatic-malt>=2.15.1->pennylane-catalyst==0.5.0)\n",
      "  Downloading astunparse-1.6.3-py2.py3-none-any.whl.metadata (4.4 kB)\n",
      "Collecting gast (from diastatic-malt>=2.15.1->pennylane-catalyst==0.5.0)\n",
      "  Downloading gast-0.5.4-py3-none-any.whl.metadata (1.3 kB)\n",
      "Requirement already satisfied: termcolor in /usr/local/lib/python3.10/dist-packages (from diastatic-malt>=2.15.1->pennylane-catalyst==0.5.0) (2.4.0)\n"
     ]
    },
    {
     "name": "stdout",
     "output_type": "stream",
     "text": [
      "Requirement already satisfied: networkx in /home/u8283469/.local/lib/python3.10/site-packages (from pennylane>=0.35->pennylane-catalyst==0.5.0) (3.2.1)\n",
      "Requirement already satisfied: rustworkx in /home/u8283469/.local/lib/python3.10/site-packages (from pennylane>=0.35->pennylane-catalyst==0.5.0) (0.14.2)\n",
      "Requirement already satisfied: autograd in /home/u8283469/.local/lib/python3.10/site-packages (from pennylane>=0.35->pennylane-catalyst==0.5.0) (1.6.2)\n",
      "Requirement already satisfied: toml in /home/u8283469/.local/lib/python3.10/site-packages (from pennylane>=0.35->pennylane-catalyst==0.5.0) (0.10.2)\n",
      "Requirement already satisfied: appdirs in /home/u8283469/.local/lib/python3.10/site-packages (from pennylane>=0.35->pennylane-catalyst==0.5.0) (1.4.4)\n",
      "Requirement already satisfied: semantic-version>=2.7 in /home/u8283469/.local/lib/python3.10/site-packages (from pennylane>=0.35->pennylane-catalyst==0.5.0) (2.10.0)\n",
      "Requirement already satisfied: autoray>=0.6.1 in /home/u8283469/.local/lib/python3.10/site-packages (from pennylane>=0.35->pennylane-catalyst==0.5.0) (0.6.9)\n",
      "Requirement already satisfied: cachetools in /home/u8283469/.local/lib/python3.10/site-packages (from pennylane>=0.35->pennylane-catalyst==0.5.0) (5.3.3)\n",
      "Requirement already satisfied: requests in /usr/local/lib/python3.10/dist-packages (from pennylane>=0.35->pennylane-catalyst==0.5.0) (2.31.0)\n",
      "Requirement already satisfied: typing-extensions in /usr/local/lib/python3.10/dist-packages (from pennylane>=0.35->pennylane-catalyst==0.5.0) (4.9.0)\n",
      "Requirement already satisfied: wheel<1.0,>=0.23.0 in /usr/lib/python3/dist-packages (from astunparse->diastatic-malt>=2.15.1->pennylane-catalyst==0.5.0) (0.37.1)\n",
      "Requirement already satisfied: six<2.0,>=1.6.1 in /usr/local/lib/python3.10/dist-packages (from astunparse->diastatic-malt>=2.15.1->pennylane-catalyst==0.5.0) (1.16.0)\n",
      "Requirement already satisfied: future>=0.15.2 in /home/u8283469/.local/lib/python3.10/site-packages (from autograd->pennylane>=0.35->pennylane-catalyst==0.5.0) (1.0.0)\n",
      "Requirement already satisfied: charset-normalizer<4,>=2 in /usr/local/lib/python3.10/dist-packages (from requests->pennylane>=0.35->pennylane-catalyst==0.5.0) (3.3.2)\n",
      "Requirement already satisfied: idna<4,>=2.5 in /usr/local/lib/python3.10/dist-packages (from requests->pennylane>=0.35->pennylane-catalyst==0.5.0) (3.6)\n",
      "Requirement already satisfied: urllib3<3,>=1.21.1 in /usr/local/lib/python3.10/dist-packages (from requests->pennylane>=0.35->pennylane-catalyst==0.5.0) (2.1.0)\n",
      "Requirement already satisfied: certifi>=2017.4.17 in /usr/local/lib/python3.10/dist-packages (from requests->pennylane>=0.35->pennylane-catalyst==0.5.0) (2023.11.17)\n",
      "Downloading PennyLane_Catalyst-0.5.0-cp310-cp310-manylinux2014_x86_64.whl (64.2 MB)\n",
      "\u001b[2K   \u001b[90m━━━━━━━━━━━━━━━━━━━━━━━━━━━━━━━━━━━━━━━━\u001b[0m \u001b[32m64.2/64.2 MB\u001b[0m \u001b[31m7.0 MB/s\u001b[0m eta \u001b[36m0:00:00\u001b[0m00:01\u001b[0m00:01\u001b[0mm\n",
      "\u001b[?25hDownloading jax-0.4.23-py3-none-any.whl (1.7 MB)\n",
      "\u001b[2K   \u001b[90m━━━━━━━━━━━━━━━━━━━━━━━━━━━━━━━━━━━━━━━━\u001b[0m \u001b[32m1.7/1.7 MB\u001b[0m \u001b[31m8.2 MB/s\u001b[0m eta \u001b[36m0:00:00\u001b[0m00:01\u001b[0m00:01\u001b[0m\n",
      "\u001b[?25hDownloading jaxlib-0.4.23-cp310-cp310-manylinux2014_x86_64.whl (77.2 MB)\n",
      "\u001b[2K   \u001b[90m━━━━━━━━━━━━━━━━━━━━━━━━━━━━━━━━━━━━━━━━\u001b[0m \u001b[32m77.2/77.2 MB\u001b[0m \u001b[31m2.5 MB/s\u001b[0m eta \u001b[36m0:00:00\u001b[0m00:01\u001b[0m00:01\u001b[0m\n",
      "\u001b[?25hDownloading diastatic_malt-2.15.1-py3-none-any.whl (167 kB)\n",
      "\u001b[2K   \u001b[90m━━━━━━━━━━━━━━━━━━━━━━━━━━━━━━━━━━━━━━━━\u001b[0m \u001b[32m167.6/167.6 kB\u001b[0m \u001b[31m1.8 MB/s\u001b[0m eta \u001b[36m0:00:00\u001b[0ma \u001b[36m0:00:01\u001b[0m\n",
      "\u001b[?25hDownloading tomlkit-0.12.4-py3-none-any.whl (37 kB)\n",
      "Downloading ml_dtypes-0.3.2-cp310-cp310-manylinux_2_17_x86_64.manylinux2014_x86_64.whl (2.2 MB)\n",
      "\u001b[2K   \u001b[90m━━━━━━━━━━━━━━━━━━━━━━━━━━━━━━━━━━━━━━━━\u001b[0m \u001b[32m2.2/2.2 MB\u001b[0m \u001b[31m1.8 MB/s\u001b[0m eta \u001b[36m0:00:00\u001b[0m00:01\u001b[0m00:01\u001b[0m\n",
      "\u001b[?25hDownloading astunparse-1.6.3-py2.py3-none-any.whl (12 kB)\n",
      "Downloading gast-0.5.4-py3-none-any.whl (19 kB)\n",
      "Downloading opt_einsum-3.3.0-py3-none-any.whl (65 kB)\n",
      "\u001b[2K   \u001b[90m━━━━━━━━━━━━━━━━━━━━━━━━━━━━━━━━━━━━━━━━\u001b[0m \u001b[32m65.5/65.5 kB\u001b[0m \u001b[31m2.1 MB/s\u001b[0m eta \u001b[36m0:00:00\u001b[0m\n",
      "\u001b[?25hInstalling collected packages: tomlkit, opt-einsum, ml-dtypes, gast, astunparse, jaxlib, jax, diastatic-malt, pennylane-catalyst\n",
      "Successfully installed astunparse-1.6.3 diastatic-malt-2.15.1 gast-0.5.4 jax-0.4.23 jaxlib-0.4.23 ml-dtypes-0.3.2 opt-einsum-3.3.0 pennylane-catalyst-0.5.0 tomlkit-0.12.4\n",
      "Note: you may need to restart the kernel to use updated packages.\n",
      "Collecting jax==0.4.25\n",
      "  Downloading jax-0.4.25-py3-none-any.whl.metadata (24 kB)\n",
      "Requirement already satisfied: ml-dtypes>=0.2.0 in /home/u8283469/.local/lib/python3.10/site-packages (from jax==0.4.25) (0.3.2)\n",
      "Requirement already satisfied: numpy>=1.22 in /usr/local/lib/python3.10/dist-packages (from jax==0.4.25) (1.26.3)\n",
      "Requirement already satisfied: opt-einsum in /home/u8283469/.local/lib/python3.10/site-packages (from jax==0.4.25) (3.3.0)\n",
      "Requirement already satisfied: scipy>=1.9 in /home/u8283469/.local/lib/python3.10/site-packages (from jax==0.4.25) (1.12.0)\n",
      "Downloading jax-0.4.25-py3-none-any.whl (1.8 MB)\n",
      "\u001b[2K   \u001b[90m━━━━━━━━━━━━━━━━━━━━━━━━━━━━━━━━━━━━━━━━\u001b[0m \u001b[32m1.8/1.8 MB\u001b[0m \u001b[31m2.2 MB/s\u001b[0m eta \u001b[36m0:00:00\u001b[0m00:01\u001b[0m00:01\u001b[0m\n",
      "\u001b[?25hInstalling collected packages: jax\n",
      "  Attempting uninstall: jax\n",
      "    Found existing installation: jax 0.4.23\n",
      "    Uninstalling jax-0.4.23:\n",
      "      Successfully uninstalled jax-0.4.23\n",
      "\u001b[31mERROR: pip's dependency resolver does not currently take into account all the packages that are installed. This behaviour is the source of the following dependency conflicts.\n",
      "pennylane-catalyst 0.5.0 requires jax==0.4.23, but you have jax 0.4.25 which is incompatible.\u001b[0m\u001b[31m\n",
      "\u001b[0mSuccessfully installed jax-0.4.25\n",
      "Note: you may need to restart the kernel to use updated packages.\n"
     ]
    }
   ],
   "source": [
    "#The following commands are used to set up the environment in Colab\n",
    "!wget https://developer.download.nvidia.com/compute/cuda/repos/ubuntu2204/x86_64/cuda-keyring_1.0-1_all.deb\n",
    "!dpkg -i cuda-keyring_1.0-1_all.deb\n",
    "!apt-get update\n",
    "!apt-get -y install libcublas-11-8 libcusolver-11-8 cuda-cudart-11-8\n",
    "\n",
    "%pip install cuda-quantum==0.6.0\n",
    "%pip install pennylane==0.35.1\n",
    "%pip install pennylane-catalyst==0.5.0\n",
    "%pip install jax==0.4.25"
   ]
  },
  {
   "cell_type": "markdown",
   "metadata": {
    "id": "VjWnRDD9Tj8f"
   },
   "source": [
    "The PennyLane **qjit()** decorator, when specifying **compiler=\"cuda_quantum\"**, can compile programs using **CUDA Quantum** as a  hybrid compiler toolchain. Please refer to this [documentation](https://docs.pennylane.ai/en/stable/introduction/compiling_workflows.html) for further details on compiling workflows."
   ]
  },
  {
   "cell_type": "code",
   "execution_count": 5,
   "metadata": {
    "id": "lR8t_x9PII9M"
   },
   "outputs": [],
   "source": [
    "from jax import numpy as jnp\n",
    "import pennylane as qml\n",
    "\n",
    "dev = qml.device(\"softwareq.qpp\", wires=2)\n",
    "\n",
    "@qml.qjit(compiler=\"cuda_quantum\")\n",
    "@qml.qnode(dev)\n",
    "def circuit(x):\n",
    "    qml.RX(x[0], wires=0)\n",
    "    qml.RY(x[1], wires=1)\n",
    "    qml.CNOT(wires=[0, 1])\n",
    "    return qml.expval(qml.PauliY(0))"
   ]
  },
  {
   "cell_type": "code",
   "execution_count": 6,
   "metadata": {
    "colab": {
     "base_uri": "https://localhost:8080/"
    },
    "id": "MNtYP76_IhJP",
    "outputId": "4fed7254-8fef-4b83-f5f3-578cb9506e73"
   },
   "outputs": [
    {
     "data": {
      "text/plain": [
       "-0.47244976756708373"
      ]
     },
     "execution_count": 6,
     "metadata": {},
     "output_type": "execute_result"
    }
   ],
   "source": [
    "circuit(jnp.array([0.5, 1.4]))"
   ]
  }
 ],
 "metadata": {
  "accelerator": "GPU",
  "colab": {
   "authorship_tag": "ABX9TyPa74jvIfVeCyjHjeZdBWNc",
   "gpuType": "T4",
   "include_colab_link": true,
   "provenance": []
  },
  "kernelspec": {
   "display_name": "Python 3 (ipykernel)",
   "language": "python",
   "name": "python3"
  },
  "language_info": {
   "codemirror_mode": {
    "name": "ipython",
    "version": 3
   },
   "file_extension": ".py",
   "mimetype": "text/x-python",
   "name": "python",
   "nbconvert_exporter": "python",
   "pygments_lexer": "ipython3",
   "version": "3.10.12"
  }
 },
 "nbformat": 4,
 "nbformat_minor": 1
}
